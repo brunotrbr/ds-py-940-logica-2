{
 "cells": [
  {
   "attachments": {},
   "cell_type": "markdown",
   "metadata": {},
   "source": [
    "## Dívidas da aula anterior\n",
    "\n",
    "# print(e.with_traceback())\n",
    "# buscar exemplo"
   ]
  },
  {
   "cell_type": "code",
   "execution_count": null,
   "metadata": {},
   "outputs": [],
   "source": [
    "import traceback\n",
    "\n",
    "tb = None\n",
    "try:\n",
    "    vari = int(avel)\n",
    "except Exception as e:\n",
    "    # print(e) # Imprime mensagem\n",
    "    # print(traceback.format_exc())\n",
    "    # traceback.print_exc()\n",
    "    tb = e.__traceback__\n",
    "    pass\n",
    "    # raise e # lança exceção e interrompe execução\n",
    "\n",
    "try:\n",
    "    12 / 0\n",
    "except Exception as e2:\n",
    "    print(e2)\n",
    "    raise e2.with_traceback(tb)"
   ]
  },
  {
   "cell_type": "markdown",
   "metadata": {},
   "source": [
    "# Conceitos de programação funcional\n",
    "\n",
    "## Paradigmas de programação\n",
    "\n",
    "- Programação imperativa\n",
    "\n",
    "- Programação estruturada\n",
    "\n",
    "- Programação procedural\n",
    "\n",
    "- Programação orientada a objetos\n",
    "\n",
    "- Programação funcional\n",
    "\n",
    "\n",
    "Uma linguagem deve fornecer as ferramentas e subsídios para que o paradigma possa ser utilizado. Uma linguagem que não suporte classes e herança, por exemplo, dificultaria ou inviabilizaria o paradigma orientado a objetos"
   ]
  },
  {
   "cell_type": "markdown",
   "metadata": {},
   "source": [
    "## A programação funcional\n",
    "\n",
    "Aumentar o determinismo dos programas, sem efeitos colaterais no estado dos mesmos."
   ]
  },
  {
   "cell_type": "markdown",
   "metadata": {},
   "source": [
    "### Funções puras\n",
    "\n",
    "Função sem efeitos colaterais. Vantagens:\n",
    "\n",
    "- Se nenhum parâmetro da função causa efeitos colaterais, então a função sempre apresentará o mesmo resultado ao receber os mesmos argumentos.\n",
    "- Se não houver dependência entre os dados de duas funções puras, elas podem ser executadas em paralelo sem causar problemas de concorrência.\n",
    "- Se o retorno de uma função sem efeitos colaterais não está sendo usado, ela pode ser removida sem afetar o restante do programa."
   ]
  },
  {
   "cell_type": "code",
   "execution_count": null,
   "metadata": {},
   "outputs": [],
   "source": [
    "entrada = [1, 1.5, 3, 4.5]\n",
    "\n",
    "def funcao_pura(numeros: list):\n",
    "    soma = 0\n",
    "    for n in numeros:\n",
    "        soma += n\n",
    "    return soma\n",
    "\n",
    "def funcao_impura(numeros: list):\n",
    "    soma = 0\n",
    "    for idx in range(len(numeros)):\n",
    "        if type(numeros[idx]) != int:\n",
    "            numeros[idx] = int(numeros[idx])\n",
    "        soma += numeros[idx]\n",
    "        idx += 1\n",
    "    return soma\n",
    "\n",
    "funcao_pura(entrada)\n",
    "print(entrada)\n",
    "print()\n",
    "funcao_impura(entrada)\n",
    "print(entrada)"
   ]
  },
  {
   "cell_type": "markdown",
   "metadata": {},
   "source": [
    "### Funções de primeira classe e funções de alta ordem\n",
    "\n",
    "Funções como cidadãs de primeira classe podem:\n",
    "\n",
    "- ser atribuídas para variáveis ou guardadas em estruturas de dados \n",
    "- ser passadas como parâmetros para outras funções \n",
    "- ser retornadas por outras funções\n",
    "\n",
    "Essas características permitem a criação de funções de alta ordem, que recebem pelo menos uma função como parâmetro ou retornam uma função."
   ]
  },
  {
   "cell_type": "markdown",
   "metadata": {},
   "source": [
    "#### Atribuindo função para uma variável em Python"
   ]
  },
  {
   "cell_type": "code",
   "execution_count": null,
   "metadata": {},
   "outputs": [],
   "source": [
    "def funcao_qualquer():\n",
    "    print('Ola')\n",
    "\n",
    "x = funcao_qualquer\n",
    "print(f'Tipo da variável x: {type(x)}')\n",
    "x()"
   ]
  },
  {
   "cell_type": "markdown",
   "metadata": {},
   "source": [
    "#### Passando uma função como parâmetro para outra função"
   ]
  },
  {
   "cell_type": "code",
   "execution_count": null,
   "metadata": {},
   "outputs": [],
   "source": [
    "def soma(a, b):\n",
    "    return a+ b\n",
    "\n",
    "def multiplicacao(a, b):\n",
    "    return a * b\n",
    "\n",
    "def cumulativo(inicial, quantidade, operacao):\n",
    "    contador = 1\n",
    "    acumulado = inicial\n",
    "    while contador < quantidade:\n",
    "        acumulado = operacao(acumulado, contador)\n",
    "        contador += 1\n",
    "    return acumulado\n",
    "\n",
    "\n",
    "somatorio = cumulativo(0, 5, soma)\n",
    "fatorial = cumulativo(1, 5, multiplicacao)\n",
    "print(f'O somátório de 1 a 5 é {somatorio} e o fatorial de 5 é {fatorial}')"
   ]
  },
  {
   "cell_type": "code",
   "execution_count": null,
   "metadata": {},
   "outputs": [],
   "source": [
    "# exemplo real\n",
    "def get_data():\n",
    "    cache_service = None\n",
    "\n",
    "    def _get_format_data(**kwargs):\n",
    "        return _fetch_service(service)\n",
    "    \n",
    "    payload = cache_service.intercept_cache(_get_format_data, start_date, end_date)\n",
    "    return payload"
   ]
  },
  {
   "cell_type": "markdown",
   "metadata": {},
   "source": [
    "#### Retornando uma função"
   ]
  },
  {
   "cell_type": "code",
   "execution_count": null,
   "metadata": {},
   "outputs": [],
   "source": [
    "def soma(a, b):\n",
    "    return a + b\n",
    "\n",
    "def multiplicacao(a, b):\n",
    "    return a * b\n",
    "\n",
    "def operador_para_funcao(operador):\n",
    "    if operador == '+':\n",
    "        return soma\n",
    "    elif operador == '*':\n",
    "        return multiplicacao\n",
    "\n",
    "x = operador_para_funcao('*')\n",
    "print(x(5,2))"
   ]
  },
  {
   "attachments": {},
   "cell_type": "markdown",
   "metadata": {},
   "source": [
    "#### Clausura\n",
    "\n",
    "Função com ambiente \"embutido\"\n",
    "\n",
    "Clausura ajuda a evitar o uso de variáveis globais"
   ]
  },
  {
   "cell_type": "code",
   "execution_count": null,
   "metadata": {},
   "outputs": [],
   "source": [
    "def cria_somas(x):\n",
    "    print(f'x: {x}')\n",
    "    def soma(y):\n",
    "        print(f'y: {y}')\n",
    "        return x + y\n",
    "    return soma\n",
    "\n",
    "incremento = cria_somas(1)\n",
    "\n",
    "print(incremento(45))"
   ]
  },
  {
   "attachments": {},
   "cell_type": "markdown",
   "metadata": {},
   "source": [
    "### Extra: passagem de parâmetros e leitura de arquivo csv"
   ]
  },
  {
   "cell_type": "code",
   "execution_count": null,
   "metadata": {},
   "outputs": [],
   "source": [
    "lista_qualquer = [2,5]\n",
    "\n",
    "def funcao_qualquer_multiplica():\n",
    "    um = lista_qualquer[0]\n",
    "    dois = lista_qualquer[0]\n",
    "    print(um * dois)\n",
    "\n",
    "\n",
    "def funcao_qualquer_multiplica(parametro_um, parametro_dois):\n",
    "    print(parametro_um * parametro_dois)\n",
    "\n",
    "funcao_qualquer_multiplica(lista_qualquer[0], lista_qualquer[1])"
   ]
  },
  {
   "cell_type": "code",
   "execution_count": null,
   "metadata": {},
   "outputs": [],
   "source": [
    "from collections import namedtuple\n",
    "import csv\n",
    "from typing import List, NamedTuple\n",
    "\n",
    "Produto = namedtuple('Produto', ['id', 'nome', 'descricao', 'quantidade'])\n",
    "ARQUIVO_ESTOQUE = 'estoque.csv'\n",
    "\n",
    "# Início do programa\n",
    "def importacao_estoque(caminho_nome_arquivo: str) -> List[NamedTuple]:\n",
    "    produtos = []\n",
    "    arquivo = open(ARQUIVO_ESTOQUE, 'r')\n",
    "    estoque = csv.reader(arquivo, delimiter=',', lineterminator='\\n')\n",
    "    for idx, linha in enumerate(estoque):\n",
    "        if idx == 0:\n",
    "            pass\n",
    "        else:\n",
    "            produto_importado = Produto(linha[0],linha[1], linha[2], linha[3])\n",
    "            produtos.append(produto_importado)\n",
    "    arquivo.close()\n",
    "    return produtos\n",
    "    \n",
    "estoque = importacao_estoque(ARQUIVO_ESTOQUE)\n",
    "for item in estoque:\n",
    "    print(item)\n",
    "\n"
   ]
  },
  {
   "cell_type": "code",
   "execution_count": null,
   "metadata": {},
   "outputs": [],
   "source": [
    "from collections import namedtuple\n",
    "import csv\n",
    "from typing import List, NamedTuple\n",
    "\n",
    "Produto = namedtuple('Produto', ['id', 'nome', 'descricao', 'quantidade'])\n",
    "ARQUIVO_ESTOQUE = 'estoque.csv'\n",
    "\n",
    "# Início do programa\n",
    "def importacao_estoque(caminho_nome_arquivo: str) -> List[NamedTuple]:\n",
    "    produtos = []\n",
    "    arquivo = open(ARQUIVO_ESTOQUE, 'r')\n",
    "    estoque = csv.DictReader(arquivo, delimiter=',', lineterminator='\\n')\n",
    "    for linha in estoque:\n",
    "        print(linha)\n",
    "    arquivo.close()\n",
    "    \n",
    "importacao_estoque(ARQUIVO_ESTOQUE)"
   ]
  },
  {
   "attachments": {},
   "cell_type": "markdown",
   "metadata": {},
   "source": [
    "### Extra: passagem de parâmetros e leitura de arquivo csv"
   ]
  },
  {
   "attachments": {},
   "cell_type": "markdown",
   "metadata": {},
   "source": [
    "#### Funções anônimas\n",
    "\n",
    "Funções lambda: Execução \"sem declaração nem retorno\"\n",
    "\n",
    "`lambda parametro_1, parametro_2... : expressao`\n",
    "\n",
    "A expressão também pode ser uma função, recebendo os parâmetros como argumentos dessa função"
   ]
  },
  {
   "cell_type": "code",
   "execution_count": null,
   "metadata": {},
   "outputs": [],
   "source": [
    "def soma(a, b):\n",
    "    return a + b\n",
    "\n",
    "def multiplicacao(a, b):\n",
    "    return a * b\n",
    "\n",
    "def cumulativo(inicial, quantidade, operacao):\n",
    "    contador = 1\n",
    "    acumulado = inicial\n",
    "    while contador <= quantidade:\n",
    "        acumulado = operacao(acumulado, contador)\n",
    "        contador += 1\n",
    "    return acumulado\n",
    "\n",
    "somatorio = cumulativo(0,5, lambda var_acumulado, var_contador : soma(var_acumulado,var_contador))\n",
    "fatorial = cumulativo(1,5, lambda var_acumulado, var_contador : var_acumulado * var_contador)\n",
    "print(f'O somatório de 0 a 5 é {somatorio} e o fatorial de 1 a 5 é {fatorial}')"
   ]
  },
  {
   "cell_type": "markdown",
   "metadata": {},
   "source": [
    "#### Imutabilidade\n",
    "\n",
    "Previne efeitos colaterais em casos de concorrência com execução paralela"
   ]
  },
  {
   "cell_type": "markdown",
   "metadata": {},
   "source": [
    "#### Recursão\n",
    "\n",
    "Função é capaz de chamar a si mesma.\n",
    "\n",
    "\n",
    "Problemas nas funções iterativas:\n",
    "\n",
    "- Mutabilidade e variáveis de controle.\n",
    "\n",
    "- Legibilidade do loop\n",
    "\n",
    "\n",
    "Recursão resolve esses \"problemas\""
   ]
  },
  {
   "cell_type": "code",
   "execution_count": null,
   "metadata": {},
   "outputs": [],
   "source": [
    "# F(0) = 1\n",
    "# F(1) = 1\n",
    "# F(n) = F(n-2) + f(n-1), se n > 1\n",
    "\n",
    "def fib_iterativo(n):\n",
    "    n1 = 0\n",
    "    n2 = 1\n",
    "    contador = 0\n",
    "    while contador < n:\n",
    "        n1, n2 = n2, n1+n2\n",
    "        contador += 1\n",
    "    return n2\n",
    "\n",
    "\n",
    "print(fib_iterativo(5))\n",
    "\n",
    "def fib_recursivo(n):\n",
    "    if n == 0 or n == 1:\n",
    "        return 1\n",
    "    else:\n",
    "        return fib_recursivo(n-1) + fib_recursivo(n-2)\n",
    "\n",
    "print(fib_recursivo(40))\n"
   ]
  },
  {
   "cell_type": "markdown",
   "metadata": {},
   "source": [
    "#### Recursão na cauda\n",
    "\n",
    "Quase igual a recursão, mas armazenando valores para retorno"
   ]
  },
  {
   "cell_type": "code",
   "execution_count": null,
   "metadata": {},
   "outputs": [],
   "source": [
    "def fib_cauda(n, n1 = 1, n2 = 1):\n",
    "    if n1 == 1 and n2 == 1:\n",
    "        print(n1)\n",
    "        print(n2)\n",
    "    else:\n",
    "        print(n2)\n",
    "    if n == 0:\n",
    "        return n1\n",
    "    if n == 1:\n",
    "        return n2\n",
    "    \n",
    "    return fib_cauda(n-1, n2, n1 + n2)\n",
    "\n",
    "# Pra executar fibonacci na cauda, passa somente o valor de n.\n",
    "fib_cauda(40)"
   ]
  },
  {
   "cell_type": "markdown",
   "metadata": {},
   "source": [
    "#### Funções de alta ordem em coleções\n",
    "\n",
    "- map\n",
    "- filter\n",
    "- reduce"
   ]
  },
  {
   "cell_type": "markdown",
   "metadata": {},
   "source": [
    "#### Map\n",
    "\n",
    "Aplicar algo a uma coleção"
   ]
  },
  {
   "cell_type": "code",
   "execution_count": 40,
   "metadata": {},
   "outputs": [
    {
     "name": "stdout",
     "output_type": "stream",
     "text": [
      "[1, 8, 27, 64]\n"
     ]
    }
   ],
   "source": [
    "def cubo(n):\n",
    "    return n**3\n",
    "\n",
    "numeros = (1,2,3,4)\n",
    "numeros_cubo = list(map(cubo, numeros))\n",
    "# numeros_cubo = list(map(lambda x: x**3, numeros))\n",
    "# lambda x: x**3 é o que vai ser aplicado\n",
    "# na coleção de numeros\n",
    "print(numeros_cubo)\n",
    "\n",
    "numeros_cubo_2 = [x**3 for x in numeros]\n",
    "print(numeros,)"
   ]
  },
  {
   "attachments": {},
   "cell_type": "markdown",
   "metadata": {},
   "source": [
    "Podemos atingir o mesmo resultado utilizando compreensão de listas ou expressões geradoras"
   ]
  },
  {
   "cell_type": "code",
   "execution_count": null,
   "metadata": {},
   "outputs": [],
   "source": []
  },
  {
   "cell_type": "markdown",
   "metadata": {},
   "source": [
    "#### Filter\n",
    "\n",
    "Filtra elementos em uma coleção\n"
   ]
  },
  {
   "cell_type": "code",
   "execution_count": null,
   "metadata": {},
   "outputs": [],
   "source": []
  },
  {
   "attachments": {},
   "cell_type": "markdown",
   "metadata": {},
   "source": [
    "Podemos atingir o mesmo resultado utilizando compreensão de listas ou expressões geradoras"
   ]
  },
  {
   "cell_type": "code",
   "execution_count": null,
   "metadata": {},
   "outputs": [],
   "source": []
  },
  {
   "cell_type": "markdown",
   "metadata": {},
   "source": [
    "#### Reduce\n",
    "\n",
    "Reduz listas gerando um resultado \"final\""
   ]
  },
  {
   "cell_type": "code",
   "execution_count": null,
   "metadata": {},
   "outputs": [],
   "source": [
    "lambda x : x**3\n"
   ]
  },
  {
   "cell_type": "markdown",
   "metadata": {},
   "source": [
    "Outro exemplo, para agrupar dados em categorias"
   ]
  },
  {
   "cell_type": "code",
   "execution_count": null,
   "metadata": {},
   "outputs": [],
   "source": []
  }
 ],
 "metadata": {
  "kernelspec": {
   "display_name": "Python 3",
   "language": "python",
   "name": "python3"
  },
  "language_info": {
   "codemirror_mode": {
    "name": "ipython",
    "version": 3
   },
   "file_extension": ".py",
   "mimetype": "text/x-python",
   "name": "python",
   "nbconvert_exporter": "python",
   "pygments_lexer": "ipython3",
   "version": "3.10.5 (tags/v3.10.5:f377153, Jun  6 2022, 16:14:13) [MSC v.1929 64 bit (AMD64)]"
  },
  "orig_nbformat": 4,
  "vscode": {
   "interpreter": {
    "hash": "42478136ef40f8edd3f4cf991c33cffcfc620a666d0dc328e82cc0ef4d7b2c04"
   }
  }
 },
 "nbformat": 4,
 "nbformat_minor": 2
}
