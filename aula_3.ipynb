{
 "cells": [
  {
   "cell_type": "markdown",
   "metadata": {},
   "source": [
    "## Dívidas da aula anterior\n",
    "\n",
    "#### iterar sobre zip\n",
    "\n",
    "Utilizamos iteradores, que vamos ver na aula de hoje."
   ]
  },
  {
   "cell_type": "code",
   "execution_count": 3,
   "metadata": {},
   "outputs": [
    {
     "name": "stdout",
     "output_type": "stream",
     "text": [
      "<class 'zip'>\n",
      "(1, 4)\n",
      "(2, 5)\n",
      "(3, 6)\n"
     ]
    },
    {
     "name": "stderr",
     "output_type": "stream",
     "text": [
      "\n",
      "KeyboardInterrupt\n",
      "\n"
     ]
    }
   ],
   "source": [
    "lista_1 = [1,2,3]\n",
    "lista_2 = [4,5,6]\n",
    "\n",
    "variavel = zip(lista_1,lista_2)\n",
    "print(type(variavel))\n",
    "\n",
    "iterador = iter(variavel)\n",
    "print(next(iterador))\n",
    "print(next(iterador))\n",
    "print(next(iterador))\n",
    "print(next(iterador))"
   ]
  },
  {
   "cell_type": "markdown",
   "metadata": {},
   "source": [
    "## Matéria Nova\n",
    "\n",
    "#### C#/Java x python\n",
    "\n",
    "C#\n",
    "```csharp\n",
    "List<string> lista = new List<string>();\n",
    "```\n",
    "\n",
    "&nbsp; \n",
    "\n",
    "Java\n",
    "```java\n",
    "ArrayList<String> lista = new ArrayList<String>();\n",
    "```\n",
    "\n",
    "&nbsp; \n",
    "\n",
    "Python\n",
    "```python\n",
    "lista = []\n",
    "```"
   ]
  },
  {
   "cell_type": "markdown",
   "metadata": {},
   "source": [
    "### Compreensão de listas\n",
    "\n",
    "Montar uma lista com as potência de 2 de 1 a 10. O primeiro pensamento seria escrever da forma abaixo:"
   ]
  },
  {
   "cell_type": "code",
   "execution_count": null,
   "metadata": {},
   "outputs": [
    {
     "name": "stdout",
     "output_type": "stream",
     "text": [
      "[2, 4, 8, 16, 32, 64, 128, 256, 512, 1024]\n"
     ]
    }
   ],
   "source": [
    "potencias = []\n",
    "for numero in range(1,11):\n",
    "    potencias.append(pow(2,numero))\n",
    "print(potencias)"
   ]
  },
  {
   "cell_type": "markdown",
   "metadata": {},
   "source": [
    "Utilizando compreensão de listas agora"
   ]
  },
  {
   "cell_type": "code",
   "execution_count": null,
   "metadata": {},
   "outputs": [
    {
     "name": "stdout",
     "output_type": "stream",
     "text": [
      "[2, 4, 8, 16, 32, 64, 128, 256, 512, 1024]\n"
     ]
    }
   ],
   "source": [
    "potencias = [pow(2,numero) for numero in range(1,11)]\n",
    "print(potencias)"
   ]
  },
  {
   "cell_type": "markdown",
   "metadata": {},
   "source": [
    "#### Expressões condicionais em compreensão de listas\n",
    "\n",
    "Podemos utilizar if/else na compreensão de listas também\n",
    "\n",
    "A expressão condicional pode estar no final da compreensão"
   ]
  },
  {
   "cell_type": "code",
   "execution_count": null,
   "metadata": {},
   "outputs": [
    {
     "name": "stdout",
     "output_type": "stream",
     "text": [
      "['A', 'C', 'D']\n",
      "['A', 'C', 'D']\n"
     ]
    }
   ],
   "source": [
    "alunos = ['A','B','C','D']\n",
    "notas = [7,6,9,9]\n",
    "aprovados = []\n",
    "\n",
    "for aluno,nota in zip(alunos,notas):\n",
    "    if nota >= 7:\n",
    "        aprovados.append(aluno)\n",
    "print(aprovados)\n",
    "\n",
    "aprovados_2 = [aluno for aluno,nota in zip(alunos,notas) if nota >= 7]\n",
    "print(aprovados_2)\n"
   ]
  },
  {
   "cell_type": "markdown",
   "metadata": {},
   "source": [
    "Ou no início da compreensão"
   ]
  },
  {
   "cell_type": "code",
   "execution_count": null,
   "metadata": {},
   "outputs": [
    {
     "name": "stdout",
     "output_type": "stream",
     "text": [
      "[('A', 7, 'aprovado'), ('B', 6, 'reprovado'), ('C', 9, 'aprovado'), ('D', 9, 'aprovado')]\n",
      "<generator object <genexpr> at 0x000001FEBA2AB370>\n"
     ]
    }
   ],
   "source": [
    "alunos = ['A','B','C','D']\n",
    "notas = [7,6,9,9]\n",
    "\n",
    "conceitos = [(aluno,nota,'aprovado') if nota >= 7 else (aluno,nota,'reprovado') for aluno,nota in zip(alunos,notas)]\n",
    "print(conceitos)\n",
    "\n",
    "# Gera a saída normal\n",
    "print([(aluno,nota,'aprovado') if nota >= 7 else (aluno,nota,'reprovado') for aluno,nota in zip(alunos,notas)])\n",
    "\n",
    "# Cria uma expressão geradora iterável\n",
    "print((aluno,nota,'aprovado') if nota >= 7 else (aluno,nota,'reprovado') for aluno,nota in zip(alunos,notas))"
   ]
  },
  {
   "cell_type": "markdown",
   "metadata": {},
   "source": [
    "Podemos ainda passar funções para a compreensão de listas."
   ]
  },
  {
   "cell_type": "code",
   "execution_count": null,
   "metadata": {},
   "outputs": [
    {
     "name": "stdout",
     "output_type": "stream",
     "text": [
      "[2, 4, 8, 16, 32, 64, 128, 256, 512, 1024]\n",
      "[11, 12, 13]\n"
     ]
    }
   ],
   "source": [
    "potencias = [pow(2,numero) for numero in range(1,11)]\n",
    "print(potencias)\n",
    "\n",
    "def soma(op_1, op_2):\n",
    "    return op_1 + op_2\n",
    "\n",
    "a = [1,2,3]\n",
    "b = [10,10,10]\n",
    "\n",
    "resultante = [soma(um,dois) for um,dois in zip(a,b)]\n",
    "print(resultante)"
   ]
  },
  {
   "cell_type": "markdown",
   "metadata": {},
   "source": [
    "Genericamente, a \"assinatura\" da compreensão pode ser\n",
    "\n",
    "`resultado = [expressão condicional_if_else for elemento in iteravel]`, onde\n",
    "- resultado é a lista pronta\n",
    "- expressão é o que vai gerar o elemento da lista\n",
    "- condicional_if_else é a condição com if e else para gerar a expressão\n",
    "- elemento é o membro que está sendo avaliado\n",
    "- iterável pode ser uma lista, tupla, string\n",
    "\n",
    "ou\n",
    "\n",
    "`resultado = [expressão for elemento in iteravel condicional_if]`, onde\n",
    "- resultado é a lista pronta\n",
    "- expressão é o que vai gerar o elemento da lista\n",
    "- elemento é o membro que está sendo avaliado\n",
    "- iterável pode ser uma lista, tupla, string\n",
    "- condicional_if é a condição somente com if para gerar a expressão"
   ]
  },
  {
   "cell_type": "code",
   "execution_count": null,
   "metadata": {},
   "outputs": [
    {
     "name": "stdout",
     "output_type": "stream",
     "text": [
      "['a', 'b']\n",
      "['pp', 'pa', 'pl', 'pa', 'pv', 'pr', 'pa']\n",
      "{'p': 0, 'a': 6, 'l': 2, 'v': 4, 'r': 5}\n",
      "{'consoante': 4, 'vogal': 3}\n",
      "{'consoante': 1, 'vogal': 6}\n",
      "[2, 4, 8, 16, 32, 64, 128, 256, 512, 1024]\n"
     ]
    }
   ],
   "source": [
    "dicionario = {'a':2, 'b': 4}\n",
    "chaves = [chave for chave in dicionario.keys()]\n",
    "print(chaves)\n",
    "\n",
    "string = 'palavra'\n",
    "letras = ['p' + letra for letra in string]\n",
    "print(letras)\n",
    "\n",
    "string = 'palavra'\n",
    "\n",
    "meu_dicionario = {key:idx for idx,key in enumerate(string)}\n",
    "print(meu_dicionario)\n",
    "\n",
    "vogais = ['a','e','i','o','u']\n",
    "contador_de_vogais = 0\n",
    "contador_de_consoantes = 0\n",
    "\n",
    "def incrementa_vogal():\n",
    "    global contador_de_vogais\n",
    "    contador_de_vogais += 1\n",
    "    return contador_de_vogais\n",
    "\n",
    "def incrementa_consoante():\n",
    "    global contador_de_consoantes\n",
    "    contador_de_consoantes += 1\n",
    "    return contador_de_consoantes\n",
    "\n",
    "dicio2 = {'vogal' if letra in vogais else 'consoante':incrementa_vogal() if letra in vogais else incrementa_consoante() for letra in string}\n",
    "print(dicio2)\n",
    "\n",
    "# # Esse da erro porque ele primeiro constrói o dicionário e por fim atribui ele à variável \"claro\"\n",
    "# claro = {'vogal':(claro['vogal'] + 1) if letra in vogais else 1 for letra in string}\n",
    "# print(claro)\n",
    "dicio = {'vogal' if letra in vogais else 'consoante':(dicio['vogal'] + 1) if letra in vogais else 1 for letra in string}\n",
    "print(dicio)\n",
    "\n",
    "\n",
    "tupla = (1,2,3,4,5,6,7,8,9,10)\n",
    "potencias_2 = [pow(2,numero) for numero in tupla]\n",
    "print(potencias_2)"
   ]
  },
  {
   "cell_type": "markdown",
   "metadata": {},
   "source": [
    "#### Aninhando compreensões\n",
    "\n",
    "Podemos aninhar 2 ou mais `for` também"
   ]
  },
  {
   "cell_type": "code",
   "execution_count": 1,
   "metadata": {},
   "outputs": [
    {
     "name": "stdout",
     "output_type": "stream",
     "text": [
      "Ana\n",
      "Souza\n",
      "Pereira\n",
      "Ana\n",
      "Souza\n",
      "Silva\n",
      "Ana\n",
      "Carvalho\n",
      "Pereira\n",
      "Ana\n",
      "Carvalho\n",
      "Silva\n",
      "Joana\n",
      "Souza\n",
      "Pereira\n",
      "Joana\n",
      "Souza\n",
      "Silva\n",
      "Joana\n",
      "Carvalho\n",
      "Pereira\n",
      "Joana\n",
      "Carvalho\n",
      "Silva\n",
      "Maria\n",
      "Souza\n",
      "Pereira\n",
      "Maria\n",
      "Souza\n",
      "Silva\n",
      "Maria\n",
      "Carvalho\n",
      "Pereira\n",
      "Maria\n",
      "Carvalho\n",
      "Silva\n",
      "Luciana\n",
      "Souza\n",
      "Pereira\n",
      "Luciana\n",
      "Souza\n",
      "Silva\n",
      "Luciana\n",
      "Carvalho\n",
      "Pereira\n",
      "Luciana\n",
      "Carvalho\n",
      "Silva\n",
      "['Ana Souza Pereira', 'Ana Souza Silva', 'Ana Carvalho Pereira', 'Ana Carvalho Silva', 'Joana Souza Pereira', 'Joana Souza Silva', 'Joana Carvalho Pereira', 'Joana Carvalho Silva', 'Maria Souza Pereira', 'Maria Souza Silva', 'Maria Carvalho Pereira', 'Maria Carvalho Silva', 'Luciana Souza Pereira', 'Luciana Souza Silva', 'Luciana Carvalho Pereira', 'Luciana Carvalho Silva']\n"
     ]
    }
   ],
   "source": [
    "nomes = ['Ana', 'Joana', 'Maria', 'Luciana']\n",
    "meios = ['Souza','Carvalho']\n",
    "sobrenomes = ['Pereira','Silva']\n",
    "\n",
    "resultante = []\n",
    "\n",
    "for nome in nomes:\n",
    "    for meio in meios:\n",
    "        for sobrenome in sobrenomes:\n",
    "            print(nome)\n",
    "            print(meio)\n",
    "            print(sobrenome)\n",
    "            resultante.append(f'{nome} {meio} {sobrenome}')\n",
    "\n",
    "print(resultante)"
   ]
  },
  {
   "cell_type": "markdown",
   "metadata": {},
   "source": [
    "Ficaria dessa forma"
   ]
  },
  {
   "cell_type": "code",
   "execution_count": null,
   "metadata": {},
   "outputs": [
    {
     "name": "stdout",
     "output_type": "stream",
     "text": [
      "['Ana Souza Pereira', 'Ana Souza Silva', 'Ana Carvalho Pereira', 'Ana Carvalho Silva', 'Joana Souza Pereira', 'Joana Souza Silva', 'Joana Carvalho Pereira', 'Joana Carvalho Silva', 'Maria Souza Pereira', 'Maria Souza Silva', 'Maria Carvalho Pereira', 'Maria Carvalho Silva', 'Luciana Souza Pereira', 'Luciana Souza Silva', 'Luciana Carvalho Pereira', 'Luciana Carvalho Silva']\n"
     ]
    }
   ],
   "source": [
    "resultante_2 = [f'{nome} {meio} {sobrenome}' for nome in nomes for meio in meios for sobrenome in sobrenomes]\n",
    "print(resultante_2)"
   ]
  },
  {
   "cell_type": "markdown",
   "metadata": {},
   "source": [
    "Por ordem, o primeiro `for` vai ser o mais externo do loop, e vai assim até o final dos `for's`"
   ]
  },
  {
   "cell_type": "markdown",
   "metadata": {},
   "source": [
    "### Expressões geradoras\n",
    "\n",
    "Qual o tipo resultante em cada uma das expressões?"
   ]
  },
  {
   "cell_type": "code",
   "execution_count": null,
   "metadata": {},
   "outputs": [
    {
     "name": "stdout",
     "output_type": "stream",
     "text": [
      "<class 'list'>\n",
      "<class 'generator'>\n"
     ]
    }
   ],
   "source": [
    "colchetes = [x for x in range(10)]\n",
    "\n",
    "parenteses = (x for x in range(10))\n",
    "\n",
    "print(type(colchetes))\n",
    "print(type(parenteses))"
   ]
  },
  {
   "cell_type": "markdown",
   "metadata": {},
   "source": [
    "Não existe compreensão de tuplas!\n",
    "\n",
    "Estamos criando uma expressão geradora"
   ]
  },
  {
   "cell_type": "code",
   "execution_count": null,
   "metadata": {},
   "outputs": [],
   "source": [
    "\n",
    "parenteses = (x for x in range(3))\n",
    "print(next(parenteses))\n",
    "print(next(parenteses))\n",
    "print(next(parenteses))\n",
    "print(next(parenteses))"
   ]
  },
  {
   "cell_type": "markdown",
   "metadata": {},
   "source": [
    "Podemos executar ela até o final, e da erro se tentar precessar mais do que ela gera.\n",
    "\n",
    "Contudo, podemos gerar novamente ela."
   ]
  },
  {
   "cell_type": "code",
   "execution_count": null,
   "metadata": {},
   "outputs": [
    {
     "name": "stdout",
     "output_type": "stream",
     "text": [
      "0\n",
      "1\n",
      "2\n",
      "\n",
      "0\n",
      "1\n",
      "2\n"
     ]
    }
   ],
   "source": [
    "parenteses = (x for x in range(3))\n",
    "print(next(parenteses))\n",
    "print(next(parenteses))\n",
    "print(next(parenteses))\n",
    "\n",
    "print()\n",
    "\n",
    "parenteses = (x for x in range(3))\n",
    "print(next(parenteses))\n",
    "print(next(parenteses))\n",
    "print(next(parenteses))"
   ]
  },
  {
   "cell_type": "markdown",
   "metadata": {},
   "source": [
    "Também podemos iterar sobre ela"
   ]
  },
  {
   "cell_type": "code",
   "execution_count": null,
   "metadata": {},
   "outputs": [
    {
     "name": "stdout",
     "output_type": "stream",
     "text": [
      "0\n",
      "1\n",
      "2\n"
     ]
    }
   ],
   "source": [
    "parenteses = (x for x in range(3))\n",
    "for x in parenteses:\n",
    "    print(x)\n"
   ]
  },
  {
   "cell_type": "markdown",
   "metadata": {},
   "source": [
    "#### Iteradores x iteráveis\n",
    "\n",
    "Iterável é um objeto que podemos percorrer utilizando um loop\n",
    "\n",
    "Criamos iteradores com a função `iter`, e utilizamos a função `next` para gerar o próximo elemento"
   ]
  },
  {
   "cell_type": "code",
   "execution_count": null,
   "metadata": {},
   "outputs": [
    {
     "name": "stdout",
     "output_type": "stream",
     "text": [
      "(1, 4)\n",
      "(2, 5)\n",
      "(3, 6)\n"
     ]
    },
    {
     "ename": "StopIteration",
     "evalue": "",
     "output_type": "error",
     "traceback": [
      "\u001b[1;31m---------------------------------------------------------------------------\u001b[0m",
      "\u001b[1;31mStopIteration\u001b[0m                             Traceback (most recent call last)",
      "Cell \u001b[1;32mIn [44], line 10\u001b[0m\n\u001b[0;32m      8\u001b[0m \u001b[39mprint\u001b[39m(\u001b[39mnext\u001b[39m(iterador))\n\u001b[0;32m      9\u001b[0m \u001b[39mprint\u001b[39m(\u001b[39mnext\u001b[39m(iterador))\n\u001b[1;32m---> 10\u001b[0m \u001b[39mprint\u001b[39m(\u001b[39mnext\u001b[39;49m(iterador))\n",
      "\u001b[1;31mStopIteration\u001b[0m: "
     ]
    }
   ],
   "source": [
    "lista_1 = [1,2,3]\n",
    "lista_4 = [4,5,6]\n",
    "\n",
    "var = zip(lista_1,lista_4)\n",
    "iterador = iter(var)\n",
    "\n",
    "print(next(iterador))\n",
    "print(next(iterador))\n",
    "print(next(iterador))\n",
    "print(next(iterador))"
   ]
  },
  {
   "cell_type": "markdown",
   "metadata": {},
   "source": [
    "#### Funções geradoras\n",
    "\n",
    "Realizar processamento sob demanda\n",
    "\n",
    "Estamos escrevendo uma função para retornar uma lista aleatória de números (floats) a partir de uma lista de números inteiros de x até y.\n",
    "\n",
    "Esses números gerados serão utilizadas para diversos outros cálculos, mas como temos um hardware extremamente enxuto não queremos gerar uma lista gigante e armazenar tudo em memória, pois outras partes críticas do programa poderiam ser impactadas.\n",
    "\n",
    "Nós vamos gerar um número aleatório, realizar os cálculos desejados, depois gerar outro número aleatório, realizar os cálculos desejados, etc."
   ]
  },
  {
   "cell_type": "code",
   "execution_count": null,
   "metadata": {},
   "outputs": [
    {
     "name": "stdout",
     "output_type": "stream",
     "text": [
      "0.5204905588655341\n",
      "Resultado do cálculo 1.520490558865534\n",
      "1.763859364856342\n",
      "Resultado do cálculo 2.763859364856342\n"
     ]
    }
   ],
   "source": [
    "from random import random\n",
    "from time import sleep\n",
    "\n",
    "def funcao_geradora(inicio: int, final: int, salto: int) -> float:\n",
    "    for numero in range(inicio, final, salto):\n",
    "        numero_aleatorio = random()*numero\n",
    "        print(numero_aleatorio)\n",
    "        yield float(numero_aleatorio)\n",
    "\n",
    "def realiza_calculo(numero_gerado: float) -> None:\n",
    "    sleep(3)\n",
    "    print(f'Resultado do cálculo {numero_gerado + 1}')\n",
    "    sleep(1)\n",
    "\n",
    "for numero_g in funcao_geradora(1,5,2):\n",
    "    realiza_calculo(numero_g)"
   ]
  },
  {
   "cell_type": "markdown",
   "metadata": {},
   "source": [
    "Funções geradoras não são listas\n",
    "\n",
    "Função geradora armazena contextos"
   ]
  },
  {
   "cell_type": "code",
   "execution_count": null,
   "metadata": {},
   "outputs": [
    {
     "name": "stdout",
     "output_type": "stream",
     "text": [
      "\n",
      "Lista Geradora\n",
      "1\n",
      "2\n",
      "Resultado do cálculo 1.6818740113175539\n",
      "Resultado do cálculo 2.353822860365171\n",
      "\n",
      "Função Geradora\n",
      "1\n",
      "Resultado do cálculo 1.678995471236758\n",
      "2\n",
      "Resultado do cálculo 2.156660776643969\n"
     ]
    }
   ],
   "source": [
    "from random import random\n",
    "from time import sleep\n",
    "\n",
    "def funcao_geradora(inicio: int, final: int, salto: int) -> float:\n",
    "    contador = 0\n",
    "    for numero in range(inicio, final, salto):\n",
    "        contador += 1\n",
    "        print(contador)\n",
    "        yield float(random()*numero)\n",
    "\n",
    "def lista_geradora(inicio: int, final: int, salto: int):\n",
    "    lista = []\n",
    "    contador = 0\n",
    "    for numero in range(inicio, final, salto):\n",
    "        contador += 1\n",
    "        print(contador)\n",
    "        lista.append(float(random()*numero))\n",
    "    return lista\n",
    "\n",
    "def realiza_calculo(numero_gerado: float) -> None:\n",
    "    sleep(3)\n",
    "    print(f'Resultado do cálculo {numero_gerado + 1}')\n",
    "    sleep(1)\n",
    "\n",
    "print()\n",
    "print('Lista Geradora')\n",
    "for numero_g in lista_geradora(1,5,2):\n",
    "    realiza_calculo(numero_g)\n",
    "\n",
    "print()\n",
    "print('Função Geradora')\n",
    "for numero_g in funcao_geradora(1,5,2):\n",
    "    realiza_calculo(numero_g)"
   ]
  },
  {
   "cell_type": "code",
   "execution_count": null,
   "metadata": {},
   "outputs": [
    {
     "name": "stdout",
     "output_type": "stream",
     "text": [
      "1\n",
      "0.34112319242440925\n",
      "1\n",
      "0.1712237711142871\n"
     ]
    }
   ],
   "source": [
    "from random import random\n",
    "from time import sleep\n",
    "\n",
    "def funcao_geradora2(inicio: int, final: int, salto: int) -> float:\n",
    "    contador = 0\n",
    "    for numero in range(inicio, final, salto):\n",
    "        contador += 1\n",
    "        print(contador)\n",
    "        return float(random()*numero)\n",
    "\n",
    "\n",
    "def realiza_calculo(numero_gerado: float) -> None:\n",
    "    sleep(3)\n",
    "    print(f'Resultado do cálculo {numero_gerado + 1}')\n",
    "    sleep(1)\n",
    "\n",
    "print(funcao_geradora2(1,5,2))\n",
    "print(funcao_geradora2(1,5,2))"
   ]
  },
  {
   "cell_type": "markdown",
   "metadata": {},
   "source": [
    "Podemos também chamar n vezes uma função, que serão execuções independentes"
   ]
  },
  {
   "cell_type": "code",
   "execution_count": null,
   "metadata": {},
   "outputs": [],
   "source": [
    "from random import random\n",
    "from time import sleep\n",
    "\n",
    "def funcao_geradora(inicio: int, final: int, prefixo: str) -> float:\n",
    "    contador = 0\n",
    "    for numero in range(inicio, final):\n",
    "        contador += 1\n",
    "        print(f'{prefixo}: {contador}')\n",
    "        numero_aleatorio = random()*numero\n",
    "        print(numero_aleatorio)\n",
    "        yield float(numero_aleatorio)\n",
    "\n",
    "def realiza_calculo(numero_gerado: float) -> None:\n",
    "    print(f'Resultado do cálculo {numero_gerado + 1}')\n",
    "\n",
    "f_1 = funcao_geradora(1,10,'primeira')\n",
    "f_2 = funcao_geradora(1,10,'segunda')\n",
    "\n",
    "realiza_calculo(next(f_1))\n",
    "realiza_calculo(next(f_1))\n",
    "realiza_calculo(next(f_1))\n",
    "realiza_calculo(next(f_1))\n",
    "\n",
    "print()\n",
    "realiza_calculo(next(f_2))\n",
    "realiza_calculo(next(f_2))\n",
    "realiza_calculo(next(f_2))\n",
    "\n",
    "print()\n",
    "realiza_calculo(next(f_1))\n",
    "realiza_calculo(next(f_1))\n",
    "\n",
    "print()\n",
    "realiza_calculo(next(f_2))\n",
    "realiza_calculo(next(f_2))\n"
   ]
  },
  {
   "cell_type": "markdown",
   "metadata": {},
   "source": [
    "Expressões/funções geradoras podem economizar tamanho!"
   ]
  },
  {
   "cell_type": "code",
   "execution_count": null,
   "metadata": {},
   "outputs": [],
   "source": [
    "from sys import getsizeof\n",
    "\n",
    "tamanho = 1000000\n",
    "\n",
    "list_compr = [x for x in range(tamanho)]\n",
    "print(int(getsizeof(list_compr))) \n",
    "\n",
    "list_gener = (x for x in range(tamanho))\n",
    "print(getsizeof(list_gener))"
   ]
  },
  {
   "cell_type": "code",
   "execution_count": null,
   "metadata": {},
   "outputs": [],
   "source": [
    "#### Recursão com funções geradoras\n",
    "\n",
    "# Recursiva direta\n",
    "def funcao_geradora_recursiva(prefixo: str):\n",
    "    contador_recursivo = int(prefixo)\n",
    "    for _ in range(20):\n",
    "        if contador_recursivo > 3:\n",
    "            return\n",
    "        contador_recursivo += 1\n",
    "        print(f'{prefixo}: {contador_recursivo}')\n",
    "        yield contador_recursivo\n",
    "        yield from funcao_geradora_recursiva(str(contador_recursivo))\n",
    "\n",
    "\n",
    "def realiza_calculo_recursivo(numero_gerado_recursivo):\n",
    "    print(f'Resultado do cálculo {numero_gerado_recursivo + 1}')\n",
    "\n",
    "for resultado_contador in funcao_geradora_recursiva(str(1)):\n",
    "    realiza_calculo_recursivo(resultado_contador)\n",
    "    \n",
    "\n",
    "\n",
    "    \n",
    "    "
   ]
  },
  {
   "cell_type": "code",
   "execution_count": null,
   "metadata": {},
   "outputs": [],
   "source": [
    "# Recursiva indireta"
   ]
  },
  {
   "cell_type": "code",
   "execution_count": null,
   "metadata": {},
   "outputs": [],
   "source": [
    "# Variável global"
   ]
  }
 ],
 "metadata": {
  "kernelspec": {
   "display_name": "Python 3.10.5 64-bit",
   "language": "python",
   "name": "python3"
  },
  "language_info": {
   "codemirror_mode": {
    "name": "ipython",
    "version": 3
   },
   "file_extension": ".py",
   "mimetype": "text/x-python",
   "name": "python",
   "nbconvert_exporter": "python",
   "pygments_lexer": "ipython3",
   "version": "3.10.5"
  },
  "orig_nbformat": 4,
  "vscode": {
   "interpreter": {
    "hash": "42478136ef40f8edd3f4cf991c33cffcfc620a666d0dc328e82cc0ef4d7b2c04"
   }
  }
 },
 "nbformat": 4,
 "nbformat_minor": 2
}
