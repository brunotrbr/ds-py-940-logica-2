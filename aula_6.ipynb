{
 "cells": [
  {
   "attachments": {},
   "cell_type": "markdown",
   "metadata": {},
   "source": [
    "# Tratamento de exceções\n",
    "\n",
    "O código sempre quebra, em algum momento. E quando isso acontece, erros são exibidos pra gente."
   ]
  },
  {
   "cell_type": "code",
   "execution_count": null,
   "metadata": {},
   "outputs": [],
   "source": [
    "texto_digitado = 'a'\n",
    "opcao = int(texto_digitado)"
   ]
  },
  {
   "cell_type": "code",
   "execution_count": null,
   "metadata": {},
   "outputs": [],
   "source": [
    "x = 2 / 0"
   ]
  },
  {
   "cell_type": "code",
   "execution_count": null,
   "metadata": {},
   "outputs": [],
   "source": [
    "conversao = int(variavel)"
   ]
  },
  {
   "attachments": {},
   "cell_type": "markdown",
   "metadata": {},
   "source": [
    "Nosso programa (quase) nunca pode parar.\n",
    "\n",
    "\n",
    "### Exceções prontas do python, com hierarquia\n",
    "https://docs.python.org/pt-br/3/library/exceptions.html"
   ]
  },
  {
   "attachments": {},
   "cell_type": "markdown",
   "metadata": {},
   "source": [
    "## Try / Except\n",
    "\n",
    "Para capturarmos exceções e tratarmos elas, a forma mais básica é utilizarmos o bloco try/except"
   ]
  },
  {
   "cell_type": "code",
   "execution_count": null,
   "metadata": {},
   "outputs": [],
   "source": [
    "try:\n",
    "    # Bloco de código que potenciamente pode falhar/quebrar\n",
    "    pass\n",
    "except:\n",
    "    # Ação a ser executada caso o bloco do try de fato quebre\n",
    "    pass\n",
    "\n"
   ]
  },
  {
   "attachments": {},
   "cell_type": "markdown",
   "metadata": {},
   "source": [
    "Em caso de falha no bloco de código que está em execução no **try**, o fluxo é redirecionado para o **except**"
   ]
  },
  {
   "cell_type": "code",
   "execution_count": null,
   "metadata": {},
   "outputs": [],
   "source": [
    "# Exemplo de código sem try/except\n",
    "dividendo = int(input('informe o dividendo'))\n",
    "divisor = int(input('informe o divisor'))\n",
    "\n",
    "resultado = dividendo / divisor\n",
    "print(f'O resultado da divisão de {dividendo} por {divisor} é {resultado}')\n",
    "\n",
    "print('E aqui continuamos a execução do nosso código')"
   ]
  },
  {
   "cell_type": "code",
   "execution_count": null,
   "metadata": {},
   "outputs": [],
   "source": [
    "# Exemplo de código com try/except\n",
    "dividendo = int(input('informe o dividendo'))\n",
    "divisor = int(input('informe o divisor'))\n",
    "\n",
    "try:\n",
    "    # Bloco de código que potenciamente pode falhar/quebrar\n",
    "    resultado = dividendo / divisor\n",
    "    print(f'O resultado da divisão de {dividendo} por {divisor} é {resultado}')\n",
    "except:\n",
    "    # Ação a ser executada caso o bloco do try de fato quebre\n",
    "    print(f'Não foi possível dividir {dividendo} por {divisor}')\n",
    "\n",
    "print('E aqui continuamos a execução do nosso código')"
   ]
  },
  {
   "attachments": {},
   "cell_type": "markdown",
   "metadata": {},
   "source": [
    "Podemos também incluir múltiplas cláusulas **except**, para dar tratamentos diferentes aos erros"
   ]
  },
  {
   "cell_type": "code",
   "execution_count": null,
   "metadata": {},
   "outputs": [],
   "source": [
    "# Exemplo de código com try/except\n",
    "from types import TracebackType\n",
    "\n",
    "\n",
    "dividendo = int(input('informe o dividendo'))\n",
    "divisor = int(input('informe o divisor'))\n",
    "# divisor = input('informe o divisor') # comente a linha acima para forçar o type error, e descomente essa\n",
    "\n",
    "try:\n",
    "    # Bloco de código que potenciamente pode falhar/quebrar\n",
    "    resultado = dividendo / divisor\n",
    "    print(f'O resultado da divisão de {dividendo} por {divisor} é {resultado}')\n",
    "    # resultado = dividendo / divi # Descomente para dar exception generica\n",
    "except ZeroDivisionError as e:\n",
    "    print(e)\n",
    "    print(e.args)\n",
    "    # Ação a ser executada caso o bloco do try de fato quebre\n",
    "    print(f'Não foi possível dividir {dividendo} por {divisor}, pois não é possível dividir por zero')\n",
    "except TypeError:\n",
    "    # Ação a ser executada caso o bloco do try de fato quebre\n",
    "    print(f'Não foi possível dividir {dividendo} por {divisor}, pois não o divisor informado não é um número')\n",
    "except Exception as excepti:\n",
    "    print(excepti)\n",
    "    print(excepti.args)\n",
    "    print('Eu não sei o que aconteceu, mas não deu pra dividir.')\n",
    "\n",
    "\n",
    "print('E aqui continuamos a execução do nosso código')"
   ]
  },
  {
   "cell_type": "code",
   "execution_count": null,
   "metadata": {},
   "outputs": [],
   "source": [
    "# Exemplo de código com try/except\n",
    "from types import TracebackType\n",
    "\n",
    "\n",
    "dividendo = int(input('informe o dividendo'))\n",
    "divisor = int(input('informe o divisor'))\n",
    "# divisor = input('informe o divisor') # comente a linha acima para forçar o type error, e descomente essa\n",
    "\n",
    "try:\n",
    "    # Bloco de código que potenciamente pode falhar/quebrar\n",
    "    resultado = dividendo / divisor\n",
    "    print(f'O resultado da divisão de {dividendo} por {divisor} é {resultado}')\n",
    "    # resultado = dividendo / divi\n",
    "except Exception as e:\n",
    "    # Como a exceção mais abrangente está no início, ele não chega a entrar nas outras exceções.\n",
    "    # Devem ser colocadas em ordem da mais estrita para a mais ampla.\n",
    "    print(e)\n",
    "    print(e.args)\n",
    "    print('Eu não sei o que aconteceu, mas não deu pra dividir.')\n",
    "except ZeroDivisionError as e:\n",
    "    print(e)\n",
    "    print(e.args)\n",
    "    # Ação a ser executada caso o bloco do try de fato quebre\n",
    "    print(f'Não foi possível dividir {dividendo} por {divisor}, pois não é possível dividir por zero')\n",
    "except TypeError:\n",
    "    # Ação a ser executada caso o bloco do try de fato quebre\n",
    "    print(f'Não foi possível dividir {dividendo} por {divisor}, pois não o divisor informado não é um número')\n",
    "\n",
    "print('E aqui continuamos a execução do nosso código')"
   ]
  },
  {
   "attachments": {},
   "cell_type": "markdown",
   "metadata": {},
   "source": [
    "Podemos incluir cláusulas **else**, que sempre serão executadas em caso de sucesso no **try**"
   ]
  },
  {
   "cell_type": "code",
   "execution_count": null,
   "metadata": {},
   "outputs": [],
   "source": [
    "# Exemplo de código com try/except\n",
    "dividendo = int(input('informe o dividendo'))\n",
    "divisor = int(input('informe o divisor'))\n",
    "\n",
    "try:\n",
    "    # Bloco de código que potenciamente pode falhar/quebrar\n",
    "    resultado = dividendo / divisor\n",
    "    print(f'O resultado da divisão de {dividendo} por {divisor} é {resultado}')\n",
    "except:\n",
    "    # Ação a ser executada caso o bloco do try de fato quebre\n",
    "    print(f'Não foi possível dividir {dividendo} por {divisor}')\n",
    "else:\n",
    "    # Bloco a ser executado em caso de sucesso no try\n",
    "    print('O try rodou com sucesso')"
   ]
  },
  {
   "cell_type": "code",
   "execution_count": null,
   "metadata": {},
   "outputs": [],
   "source": [
    "# Exemplo um de uso de try/except/else\n",
    "try:\n",
    "    # inserir registro 1 no banco de dados\n",
    "    # alterar registro 2 no banco de dados\n",
    "    # ambos devem ter sucesso, ou será feito rollback de tudo\n",
    "    a = 2\n",
    "except:\n",
    "    # rollback das operações\n",
    "    print('erro')\n",
    "else:\n",
    "    # salvar log informando que as operações foram realizadas com sucesso\n",
    "    x = 20 / 0\n",
    "    # Caso ocorra erro no else, ele NÃO ENTRA no except de cima. Só da erro mesmo."
   ]
  },
  {
   "cell_type": "code",
   "execution_count": null,
   "metadata": {},
   "outputs": [],
   "source": [
    "# Exemplo dois de uso de try/except/else, chamadas sucessivas com tratamentos diferentes de um mesmo erro, e interromper tudo caso de erro.\n",
    "try:\n",
    "    funcao_um()\n",
    "except:\n",
    "    tratamento_um()\n",
    "else:\n",
    "    try:\n",
    "        funcao_dois()\n",
    "    except:\n",
    "        tratamento_dois()\n",
    "    else:\n",
    "        try:\n",
    "            funcao_tres()\n",
    "        except:\n",
    "            tratamento_tres()"
   ]
  },
  {
   "attachments": {},
   "cell_type": "markdown",
   "metadata": {},
   "source": [
    "Podemos incluir cláusulas **finally**, que sempre serão executadas ao final do **try/except**"
   ]
  },
  {
   "cell_type": "code",
   "execution_count": null,
   "metadata": {},
   "outputs": [],
   "source": [
    "from typing import Tuple\n",
    "def divisao(dividendo: int, divisor: int) -> Tuple[bool, int]:\n",
    "    status = None\n",
    "    try:\n",
    "        resultado = dividendo / divisor\n",
    "        status = True\n",
    "        return status, resultado\n",
    "    except:\n",
    "        status = False\n",
    "        return status, None\n",
    "    finally:\n",
    "        status = False\n",
    "        resultado = 6666\n",
    "        status_op = 'Sim' if status else 'Não'\n",
    "        print(f'Operação foi realizada? {status_op}')\n",
    "\n",
    "dividendo = int(input('informe o dividendo'))\n",
    "divisor = int(input('informe o divisor'))\n",
    "\n",
    "op_com_sucesso, resultado_div = divisao(dividendo=dividendo, divisor=divisor)\n",
    "if op_com_sucesso:\n",
    "    print(f'Resultado da divisão: {resultado_div}')\n",
    "else:\n",
    "    print('Falha ao realizar divisão')"
   ]
  },
  {
   "attachments": {},
   "cell_type": "markdown",
   "metadata": {},
   "source": [
    "E podemos colocar tudo junto"
   ]
  },
  {
   "cell_type": "code",
   "execution_count": null,
   "metadata": {},
   "outputs": [],
   "source": [
    "dividendo = int(input('informe o dividendo'))\n",
    "divisor = int(input('informe o divisor'))\n",
    "\n",
    "try:\n",
    "    resultado = dividendo / divisor\n",
    "except:\n",
    "    print(f'Não foi possível dividir {dividendo} por {divisor}')\n",
    "else:\n",
    "    print(f'O resultado da divisão de {dividendo} por {divisor} é {resultado}')\n",
    "finally:\n",
    "    print('Dando certo ou não, eu executo')\n"
   ]
  },
  {
   "attachments": {},
   "cell_type": "markdown",
   "metadata": {},
   "source": [
    "## Levantando exceções\n",
    "\n",
    "Podemos levantar nossas próprias exceções, para que sejam capturadas por outras partes do programa, ou por quem consome nossos programas, etc."
   ]
  },
  {
   "cell_type": "code",
   "execution_count": null,
   "metadata": {},
   "outputs": [],
   "source": [
    "desc = input('Informe a descrição do produto')\n",
    "valor = float(input('infomre o preço do produto'))\n",
    "\n",
    "def validar_cadastro_produto(descricao: str, valor: float):\n",
    "    if not descricao:\n",
    "        raise Exception(\"Erro! Informe a descrição do produto\")\n",
    "    if valor <= 0:\n",
    "        raise ValueError({'valor': 'menor que zero'})\n",
    "    return (descricao, valor)\n",
    "\n",
    "produto = validar_cadastro_produto(desc, valor)\n",
    "print(produto)"
   ]
  },
  {
   "attachments": {},
   "cell_type": "markdown",
   "metadata": {},
   "source": [
    "## Criando novas exceções\n",
    "\n",
    "IMPORTANTE: Esse tópico utiliza conceitos de orientação a objetos. Caso alguma coisa não fique totalmente clara agora, recomendo que depois do módulo de orientação a objetos (que vai ser o próximo) vocês retornem e leiam novamente esse material."
   ]
  },
  {
   "attachments": {},
   "cell_type": "markdown",
   "metadata": {},
   "source": [
    "Podemos criar nossas próprias exceções, caso o que a gente queira utilizar ainda não exista."
   ]
  },
  {
   "cell_type": "code",
   "execution_count": null,
   "metadata": {},
   "outputs": [],
   "source": [
    "# Criação de classe desnecessária\n",
    "\n",
    "class DivisorInvalido(Exception):\n",
    "    def __init__(self, mensagem: str = \"O divisor não pode ser zero\"):\n",
    "        self.mensagem = mensagem\n",
    "        super().__init__(self.mensagem)\n",
    "\n",
    "# Pois já existe a exceção ZeroDivisionError"
   ]
  },
  {
   "cell_type": "code",
   "execution_count": null,
   "metadata": {},
   "outputs": [],
   "source": [
    "# Criar exceção para preço inválido\n",
    "\n",
    "class CadastroDeProdutoException(Exception):\n",
    "    pass\n",
    "\n",
    "class PrecoInvalido(CadastroDeProdutoException):\n",
    "    pass\n",
    "\n",
    "class DescricaoVazia(CadastroDeProdutoException):\n",
    "    pass\n",
    "\n",
    "from datetime import datetime\n",
    "class PrecoInvalido(Exception):\n",
    "    def __init__(self, mensagem: str = \"O preço deve ser positivo\"):\n",
    "        self.mensagem = mensagem\n",
    "        self.data_hora = datetime.now()\n",
    "        super().__init__(self.mensagem)\n",
    "\n",
    "desc = input('Informe a descrição do produto')\n",
    "preco = float(input('informe o preço do produto'))\n",
    "\n",
    "def validar_cadastro_produto(descricao: str, preco: float):\n",
    "    if not descricao:\n",
    "        raise Exception(\"Erro! Informe a descrição do produto\")\n",
    "    if preco <= 0:\n",
    "        raise PrecoInvalido('O preço deve ser maior ou igual a zero')\n",
    "        # raise PrecoInvalido()\n",
    "    return (descricao, preco)\n",
    "\n",
    "try:\n",
    "    produto = validar_cadastro_produto(desc, preco)\n",
    "except PrecoInvalido as p:\n",
    "    print(p.mensagem)\n",
    "    print(p.data_hora)"
   ]
  },
  {
   "attachments": {},
   "cell_type": "markdown",
   "metadata": {},
   "source": [
    "Podemos ter múltiplas cláusulas except e se a ação for a mesma, colocar todas as exceções juntas"
   ]
  },
  {
   "cell_type": "code",
   "execution_count": null,
   "metadata": {},
   "outputs": [],
   "source": [
    "# Criar exceção para preço inválido\n",
    "\n",
    "class CadastroDeProdutoException(Exception):\n",
    "    pass\n",
    "\n",
    "class PrecoInvalido(CadastroDeProdutoException):\n",
    "    pass\n",
    "\n",
    "class DescricaoVazia(CadastroDeProdutoException):\n",
    "    pass\n",
    "\n",
    "from datetime import datetime\n",
    "class PrecoInvalido(Exception):\n",
    "    def __init__(self, mensagem: str = \"O preço deve ser positivo\"):\n",
    "        self.mensagem = mensagem\n",
    "        self.data_hora = datetime.now()\n",
    "        super().__init__(self.mensagem)\n",
    "\n",
    "class DescricaoVazia(Exception):\n",
    "    def __init__(self, mensagem: str = \"A descrição não pode ser vazia\"):\n",
    "        self.mensagem = mensagem\n",
    "        self.data_hora = datetime.now()\n",
    "        super().__init__(self.mensagem)\n",
    "\n",
    "desc = input('Informe a descrição do produto')\n",
    "preco = float(input('informe o preço do produto'))\n",
    "\n",
    "def validar_cadastro_produto(descricao: str, preco: float):\n",
    "    if not descricao:\n",
    "        raise DescricaoVazia()\n",
    "    if preco <= 0:\n",
    "        raise PrecoInvalido('O preço deve ser maior ou igual a zero')\n",
    "    return (descricao, preco)\n",
    "\n",
    "try:\n",
    "    produto = validar_cadastro_produto(desc, preco)\n",
    "except (PrecoInvalido, DescricaoVazia) as e:\n",
    "    print(e.mensagem)\n",
    "    print(e.data_hora)\n",
    "except Exception:\n",
    "    pass"
   ]
  },
  {
   "attachments": {},
   "cell_type": "markdown",
   "metadata": {},
   "source": [
    "## Adicionando atributos à exceções\n",
    "\n",
    "É possível uma exceção trazer consigo informações sobre o valor que provocou o erro. Por exemplo, seria útil que a classe PrecoInvalido pudesse informar qual foi o preco inválido. Isso é útil, por exemplo, em logs que registram tudo o que ocorreu no programa, além de trazer informações importantes para o debugging do código.\n",
    "\n",
    "Para isso, basta ajustar o construtor da classe de sua exceção:"
   ]
  },
  {
   "cell_type": "code",
   "execution_count": null,
   "metadata": {},
   "outputs": [],
   "source": [
    "# Adicionado preço à Precoinvalido\n",
    "\n",
    "from datetime import datetime\n",
    "class PrecoInvalido(Exception):\n",
    "    def __init__(self, preco_invalido, mensagem: str = \"O preço deve ser positivo\"):\n",
    "        self.mensagem = mensagem\n",
    "        self.data_hora = datetime.now()\n",
    "        self.preco = preco\n",
    "        super().__init__(self.mensagem)\n",
    "\n",
    "class DescricaoVazia(Exception):\n",
    "    def __init__(self, mensagem: str = \"A descrição não pode ser vazia\"):\n",
    "        self.mensagem = mensagem\n",
    "        self.data_hora = datetime.now()\n",
    "        super().__init__(self.mensagem)\n",
    "\n",
    "desc = input('Informe a descrição do produto')\n",
    "preco = float(input('informe o preço do produto'))\n",
    "\n",
    "def validar_cadastro_produto(descricao: str, preco: float):\n",
    "    if not descricao:\n",
    "        raise DescricaoVazia()\n",
    "    if preco <= 0:\n",
    "        raise PrecoInvalido(preco, 'O preço deve ser maior ou igual a zero')\n",
    "    return (descricao, preco)\n",
    "\n",
    "try:\n",
    "    produto = validar_cadastro_produto(desc, preco)\n",
    "except (PrecoInvalido, DescricaoVazia) as e:\n",
    "    print(e.mensagem)\n",
    "    print(e.data_hora)\n",
    "    print(e.preco)\n",
    "except Exception:\n",
    "    pass"
   ]
  },
  {
   "cell_type": "markdown",
   "metadata": {},
   "source": [
    "# Leitura de arquivos\n",
    "\n",
    "Persistência de dados"
   ]
  },
  {
   "attachments": {},
   "cell_type": "markdown",
   "metadata": {},
   "source": [
    "## Abrindo e fechando arquivos\n",
    "\n",
    "|Modo\t| Símbolo\t| Descrição |\n",
    "| --- | --- | --- |\n",
    "|read\t|r\t    |lê um arquivo existente|\n",
    "|write\t|w\t    |cria um novo arquivo|\n",
    "|append\t|a\t    |abre um arquivo existente para adicionar informações ao seu final|\n",
    "|update\t|+\t    |ao ser combinado com outros modos, permite alteração de arquivo já existente (ex: r+ abre um arquivo existente e permite modificá-lo)|\n",
    "\n",
    "Após abrirmos (ou criarmos) um arquivo, podemos realizar diversas operações. Ao final de todas elas, devemos fechar o arquivo usando a função close. Essa etapa é importante por 2 motivos:\n",
    "\n",
    "Se alteramos o arquivo mas não o fechamos, as alterações não serão salvas.\n",
    "\n",
    "Se esquecermos de fechar um arquivo, outros programas podem ter problemas de acesso a ele.\n",
    "\n",
    "`Atenção: o modo 'w' sempre irá criar um novo arquivo. Caso você use esse modo para abrir um arquivo que já existe, o arquivo existente será substituído por um novo arquivo em branco, e seu conteúdo será perdido!`"
   ]
  },
  {
   "cell_type": "code",
   "execution_count": null,
   "metadata": {},
   "outputs": [],
   "source": [
    "arquivo = open(\"ola.txt\", 'w')\n",
    "arquivo.write('Novo conteudo')\n",
    "arquivo.close()\n",
    "\n",
    "arquivo = open(\"ola2.txt\", 'w')\n",
    "arquivo.writelines(['Olá mundo!', 'Nova linha'])\n",
    "arquivo.close()\n",
    "\n",
    "# # Pegar diretório corrente\n",
    "# import os\n",
    "# print(os.getcwd())"
   ]
  },
  {
   "attachments": {},
   "cell_type": "markdown",
   "metadata": {},
   "source": [
    "## Escrevendo arquivos\n",
    "\n",
    "Por padrão, arquivos serão escritos na mesma pasta onde está nosso código-fonte. Você pode passar caminhos completos caso prefira acessar outras pastas.\n",
    "\n",
    "Um módulo bastante útil é o `os.path`, já instalado junto com o Python.\n",
    "\n",
    "Aqui um tutorial introdutório\n",
    "https://linuxhint.com/os-path-module-python/\n",
    "\n",
    "Aqui a documentação oficial:\n",
    "https://docs.python.org/pt-br/3.7/library/os.path.html"
   ]
  },
  {
   "attachments": {},
   "cell_type": "markdown",
   "metadata": {},
   "source": [
    "## Lendo arquivos\n",
    "\n",
    "read x readlines"
   ]
  },
  {
   "cell_type": "code",
   "execution_count": null,
   "metadata": {},
   "outputs": [],
   "source": [
    "arquivo = open('ola2.txt', 'r')\n",
    "conteudo = arquivo.read()\n",
    "print(conteudo)\n",
    "arquivo.close()\n",
    "\n",
    "arquivo = open('ola2.txt', 'r')\n",
    "conteudo = arquivo.readlines()\n",
    "print(conteudo)\n",
    "arquivo.close()\n"
   ]
  },
  {
   "attachments": {},
   "cell_type": "markdown",
   "metadata": {},
   "source": [
    "## Gerenciador de contexto\n",
    "\n",
    "Uma forma alternativa e \"mais segura\" de trabalhar com arquivos"
   ]
  },
  {
   "cell_type": "code",
   "execution_count": null,
   "metadata": {},
   "outputs": [],
   "source": [
    "with open('ola.txt', 'r') as arquivo:\n",
    "    conteudo = arquivo.read()\n",
    "    print(conteudo)\n",
    "\n",
    "conteudo2 = arquivo.read()"
   ]
  },
  {
   "cell_type": "code",
   "execution_count": null,
   "metadata": {},
   "outputs": [],
   "source": [
    "with open('ola.txt', 'r+') as arquivo:\n",
    "    conteudo = arquivo.read()\n",
    "    print(conteudo)\n",
    "    arquivo.write('Fechou')\n",
    "    conteudo = arquivo.read()\n",
    "    print(conteudo)"
   ]
  },
  {
   "attachments": {},
   "cell_type": "markdown",
   "metadata": {},
   "source": [
    "## Arquivos CSV\n",
    "\n",
    "### Primeiro sobre tabelas\n",
    "\n",
    "Uma das formas mais simples de se representar uma tabela em Python seria através de uma lista de listas. Nossa lista principal seria a tabela como um todo, e cada lista interna seria uma linha da tabela."
   ]
  },
  {
   "cell_type": "code",
   "execution_count": null,
   "metadata": {},
   "outputs": [],
   "source": [
    "tabela = [['aluno', 'nota_1', 'nota_2', 'presencas'],\n",
    "          ['ana', 8, 9, 15],\n",
    "          ['pedro', 6, 10, 12]\n",
    "          ]\n",
    "\n",
    "# Impressão individual dos elementos\n",
    "for linha in tabela:\n",
    "    for elemento in linha:\n",
    "        print(elemento)\n",
    "\n",
    "# Impressão de linhas\n",
    "for linha in tabela:\n",
    "        print(linha)\n",
    "\n",
    "# Impressão do elemento da linha 2, coluna 0\n",
    "print(tabela[2][0])"
   ]
  },
  {
   "attachments": {},
   "cell_type": "markdown",
   "metadata": {},
   "source": [
    "### Formato CSV\n",
    "\n",
    "A sigla CSV significa Comma-Separated Values, ou \"valores separados por vírgula\". Este formato é uma forma padrão de representar tabelas usando arquivos de texto simples: cada elemento é separado por uma vírgula, e cada linha é separada por uma quebra de linha.\n",
    "\n",
    "Na prática, nem sempre o padrão é seguido à risca: podemos utilizar outros símbolos para fazer a separação. Um bom motivo é o fato de a vírgula ser utilizada para representar casa decimal em algumas línguas, como a língua portuguesa. O importante é ser coerente: todos os elementos deverão ser separados pelo mesmo símbolo, e todas as linhas deverão ter o mesmo número de elementos."
   ]
  },
  {
   "attachments": {},
   "cell_type": "markdown",
   "metadata": {},
   "source": [
    "### Escrevendo um CSV\n",
    "\n",
    "Para escrever um CSV utilizando o módulo, precisamos ter nossos dados representados como uma lista de listas. Criamos (ou abrimos) um arquivo usando o open e utilizamos o CSV writer para escrever nosso CSV."
   ]
  },
  {
   "cell_type": "code",
   "execution_count": null,
   "metadata": {},
   "outputs": [],
   "source": [
    "import csv\n",
    "tabela = [['aluno', 'nota_1', 'nota_2', 'presencas'],\n",
    "          ['ana', 8, 9, 15],\n",
    "          ['pedro', 6, 10, 12]\n",
    "          ]\n",
    "\n",
    "arquivo = open('alunos.csv', 'w')\n",
    "\n",
    "escritor = csv.writer(arquivo, delimiter=';', lineterminator='\\n')\n",
    "escritor.writerows(tabela)\n",
    "\n",
    "arquivo.close()"
   ]
  },
  {
   "attachments": {},
   "cell_type": "markdown",
   "metadata": {},
   "source": [
    "### Lendo um CSV\n",
    "\n",
    "O processo para ler o CSV é semelhante: utilizamos um CSV reader, com os mesmos parâmetros utilizados no CSV writer. A função csv.reader retorna uma estrutura iterável (ou seja, que pode ser percorrida com for) contendo cada linha já organizada como lista."
   ]
  },
  {
   "cell_type": "code",
   "execution_count": null,
   "metadata": {},
   "outputs": [],
   "source": [
    "import csv\n",
    "\n",
    "arquivo = open('alunos.csv', 'r')\n",
    "planilha = csv.reader(arquivo, delimiter=';', lineterminator='\\n')\n",
    "print(planilha)\n",
    "arquivo.close()"
   ]
  },
  {
   "cell_type": "code",
   "execution_count": null,
   "metadata": {},
   "outputs": [],
   "source": [
    "import csv\n",
    "\n",
    "arquivo = open('alunos.csv', 'r')\n",
    "planilha = list(csv.reader(arquivo, delimiter=';', lineterminator='\\n'))\n",
    "print(planilha)\n",
    "arquivo.close()"
   ]
  },
  {
   "attachments": {},
   "cell_type": "markdown",
   "metadata": {},
   "source": [
    "## Arquivos JSON\n",
    "\n",
    "JSON é uma sigla para JavaScript Object Notation. A forma como objetos são representados nessa linguagem é bastante legível para seres humanos e fácil de decompor usando programação também, por isso sua popularidade."
   ]
  },
  {
   "cell_type": "code",
   "execution_count": null,
   "metadata": {},
   "outputs": [],
   "source": [
    "{\n",
    "    nome: 'ana',\n",
    "    nota_1: 8,\n",
    "    nota_2: 9\n",
    "}"
   ]
  },
  {
   "attachments": {},
   "cell_type": "markdown",
   "metadata": {},
   "source": [
    "### JSON para dicionário\n",
    "\n",
    "O método `loads` recebe uma string contendo um JSON e retorna um dicionário"
   ]
  },
  {
   "cell_type": "code",
   "execution_count": null,
   "metadata": {},
   "outputs": [],
   "source": [
    "import json\n",
    "\n",
    "# aluno = '{\"nome\": \"ana\", \"nota_1\": 8, \"nota_2\": 9, \"presencas\": 15, }' # ele quebra por estar com uma vírgula e esperando novos valores\n",
    "# aluno = str({\"nome\": \"ana\", \"nota_1\": 8, \"nota_2\": 9, \"presencas\": 15}) # não funciona, pois ele não entende a conversão do dicionário\n",
    "aluno = '{\"nome\": \"ana\", \"nota_1\": 8, \"nota_2\": 9, \"presencas\": 15}'\n",
    "\n",
    "dicionario = json.loads(aluno)\n",
    "\n",
    "print(dicionario)\n",
    "print(dicionario['nome'])"
   ]
  },
  {
   "attachments": {},
   "cell_type": "markdown",
   "metadata": {},
   "source": [
    "### Dicionário para JSON\n",
    "\n",
    "O método `dumps` recebe um dicionário e retorna uma string pronta para ser salva ou enviada como JSON"
   ]
  },
  {
   "cell_type": "code",
   "execution_count": null,
   "metadata": {},
   "outputs": [],
   "source": [
    "import json\n",
    "\n",
    "aluno = dict()\n",
    "aluno['nome'] = 'ana'\n",
    "aluno['nota_1'] = 8\n",
    "aluno['nota_2'] = 9\n",
    "aluno['presencas'] = 15\n",
    "\n",
    "aluno2 = dict()\n",
    "aluno2['nome'] = 'pedro'\n",
    "aluno2['nota_1'] = 10\n",
    "aluno2['nota_2'] = 10\n",
    "aluno2['presencas'] = 15\n",
    "\n",
    "aluno3 = dict()\n",
    "aluno3['nome'] = 'joana'\n",
    "aluno3['nota_1'] = 7\n",
    "aluno3['nota_2'] = 7\n",
    "aluno3['presencas'] = 15\n",
    "\n",
    "aluno['novo_aluno'] = aluno2\n",
    "aluno2['novo_aluno_2'] = aluno3\n",
    "\n",
    "string_json = json.dumps(aluno)\n",
    "\n",
    "print(string_json)\n",
    "print(type(string_json))"
   ]
  }
 ],
 "metadata": {
  "kernelspec": {
   "display_name": "Python 3",
   "language": "python",
   "name": "python3"
  },
  "language_info": {
   "codemirror_mode": {
    "name": "ipython",
    "version": 3
   },
   "file_extension": ".py",
   "mimetype": "text/x-python",
   "name": "python",
   "nbconvert_exporter": "python",
   "pygments_lexer": "ipython3",
   "version": "3.10.5"
  },
  "orig_nbformat": 4,
  "vscode": {
   "interpreter": {
    "hash": "42478136ef40f8edd3f4cf991c33cffcfc620a666d0dc328e82cc0ef4d7b2c04"
   }
  }
 },
 "nbformat": 4,
 "nbformat_minor": 2
}
