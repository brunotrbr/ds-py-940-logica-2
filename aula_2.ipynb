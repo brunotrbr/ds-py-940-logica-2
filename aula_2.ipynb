{
 "cells": [
  {
   "cell_type": "markdown",
   "metadata": {},
   "source": [
    "## Dívidas da aula anterior"
   ]
  },
  {
   "cell_type": "markdown",
   "metadata": {},
   "source": [
    "Link do repositório com o conteúdo da aula\n",
    "\n",
    "https://gitlab.com/bruno-braganca/ds-py-940-logica-2"
   ]
  },
  {
   "cell_type": "markdown",
   "metadata": {},
   "source": [
    "## Shallow copy vs deep copy\n",
    "\n",
    "Shallow copy\n",
    "```\n",
    "estrutura_a                 estrutura_b\n",
    "\n",
    "\n",
    "jose        ---> 200 <---   jose\n",
    "ana         ---> 201 <---   ana\n",
    "ricardo     ---> 202 <---   ricardo\n",
    "```\n",
    "\n",
    "\n",
    "deep copy\n",
    "```\n",
    "estrutura_a                 estrutura_b\n",
    "\n",
    "jose        ---> 200        jose        ---> 400\n",
    "ana         ---> 201        ana         ---> 401\n",
    "ricardo     ---> 202        ricardo     ---> 402\n",
    "```\n",
    "\n"
   ]
  },
  {
   "cell_type": "code",
   "execution_count": null,
   "metadata": {},
   "outputs": [],
   "source": [
    "def recursao():\n",
    "    print('chamada recursiva')\n",
    "    return recursao()\n",
    "\n",
    "from copy import deepcopy\n",
    "\n",
    "metodo = deepcopy(recursao)\n",
    "metodo()\n"
   ]
  },
  {
   "cell_type": "code",
   "execution_count": 5,
   "metadata": {},
   "outputs": [
    {
     "name": "stdout",
     "output_type": "stream",
     "text": [
      "['Zurich', 'Geneva', 'Basel', 'Lausanne', 'Bern', 'Winterthur']\n",
      "(415367, 201818, 177654, 139111, 133883, 111851)\n",
      "[('Zurich', 'Geneva', 'Basel', 'Lausanne', 'Bern', 'Winterthur'), (415367, 201818, 177654, 139111, 133883, 111851)]\n",
      "1\n",
      "2\n"
     ]
    }
   ],
   "source": [
    "# Lista das 6 maiores cidades da Suíça, e sua população.\n",
    "\n",
    "cities_and_population = [(\"Zurich\", 415367),\n",
    "                         (\"Geneva\", 201818),\n",
    "                         (\"Basel\", 177654),\n",
    "                         (\"Lausanne\", 139111),\n",
    "                         (\"Bern\", 133883),\n",
    "                         (\"Winterthur\", 111851)]\n",
    "\n",
    "\n",
    "cities, populations = list(zip(*cities_and_population))\n",
    "print(list(cities)) # transformar a tupla como lista\n",
    "print(populations)        \n",
    "\n",
    "cities2 = list(zip(*cities_and_population))\n",
    "print(cities2)\n",
    "\n",
    "x, y = [1,2]\n",
    "print(x)\n",
    "print(x)"
   ]
  },
  {
   "cell_type": "code",
   "execution_count": 2,
   "metadata": {},
   "outputs": [
    {
     "data": {
      "text/plain": [
       "<AxesSubplot: >"
      ]
     },
     "execution_count": 2,
     "metadata": {},
     "output_type": "execute_result"
    },
    {
     "data": {
      "image/png": "[encoded data removed]",
      "text/plain": [
       "<Figure size 640x480 with 1 Axes>"
      ]
     },
     "metadata": {},
     "output_type": "display_data"
    }
   ],
   "source": [
    "import pandas as pd\n",
    "s = pd.Series(populations, index=cities)\n",
    "s.plot(kind=\"bar\")"
   ]
  },
  {
   "cell_type": "markdown",
   "metadata": {},
   "source": [
    "## Exercícios de revisão"
   ]
  },
  {
   "cell_type": "code",
   "execution_count": 23,
   "metadata": {},
   "outputs": [
    {
     "data": {
      "text/plain": [
       "('Porto Alegre', 'São Paulo', 'Maceió')"
      ]
     },
     "execution_count": 23,
     "metadata": {},
     "output_type": "execute_result"
    }
   ],
   "source": [
    "# Qual a saída do código?\n",
    "\n",
    "capitais = ('Porto Alegre', 'São Paulo')\n",
    "\n",
    "capitais + ('Maceió')\n",
    "\n",
    "# a) ('Porto Alegre', 'São Paulo', 'Maceió')\n",
    "# b) ('Porto Alegre', 'São Paulo')\n",
    "# c) ('Porto Alegre', 'São Paulo', 'Maceió', )\n",
    "# d) Erro"
   ]
  },
  {
   "cell_type": "code",
   "execution_count": null,
   "metadata": {},
   "outputs": [],
   "source": [
    "# Qual a saída do código?\n",
    "\n",
    "capitais = ('Porto Alegre', 'São Paulo')\n",
    "\n",
    "capitais + ('Maceió',)\n",
    "\n",
    "# a) ('Porto Alegre', 'São Paulo', 'Maceió')\n",
    "# b) ('Porto Alegre', 'São Paulo')\n",
    "# c) ('Porto Alegre', 'São Paulo', 'Maceió', )\n",
    "# d) Erro"
   ]
  },
  {
   "cell_type": "code",
   "execution_count": 24,
   "metadata": {},
   "outputs": [
    {
     "ename": "TypeError",
     "evalue": "can only concatenate tuple (not \"list\") to tuple",
     "output_type": "error",
     "traceback": [
      "\u001b[1;31m---------------------------------------------------------------------------\u001b[0m",
      "\u001b[1;31mTypeError\u001b[0m                                 Traceback (most recent call last)",
      "Cell \u001b[1;32mIn [24], line 6\u001b[0m\n\u001b[0;32m      3\u001b[0m capitais \u001b[39m=\u001b[39m (\u001b[39m'\u001b[39m\u001b[39mPorto Alegre\u001b[39m\u001b[39m'\u001b[39m, \u001b[39m'\u001b[39m\u001b[39mSão Paulo\u001b[39m\u001b[39m'\u001b[39m)\n\u001b[0;32m      4\u001b[0m cidades \u001b[39m=\u001b[39m [\u001b[39m'\u001b[39m\u001b[39mCampinas\u001b[39m\u001b[39m'\u001b[39m, \u001b[39m'\u001b[39m\u001b[39mIndaiatuba\u001b[39m\u001b[39m'\u001b[39m]\n\u001b[1;32m----> 6\u001b[0m capitais \u001b[39m+\u001b[39;49m cidades\n\u001b[0;32m      8\u001b[0m \u001b[39m# a) ('Porto Alegre', 'São Paulo', 'Campinas', 'Indaiatuba')\u001b[39;00m\n\u001b[0;32m      9\u001b[0m \u001b[39m# b) ['Porto Alegre', 'São Paulo','Campinas', 'Indaiatuba']\u001b[39;00m\n\u001b[0;32m     10\u001b[0m \u001b[39m# c) ('Porto Alegre', 'São Paulo', ['Campinas', 'Indaiatuba'])\u001b[39;00m\n\u001b[0;32m     11\u001b[0m \u001b[39m# d) Erro\u001b[39;00m\n",
      "\u001b[1;31mTypeError\u001b[0m: can only concatenate tuple (not \"list\") to tuple"
     ]
    }
   ],
   "source": [
    "# Qual a saída do código?\n",
    "\n",
    "capitais = ('Porto Alegre', 'São Paulo')\n",
    "cidades = ['Campinas', 'Indaiatuba']\n",
    "\n",
    "capitais + cidades\n",
    "\n",
    "# a) ('Porto Alegre', 'São Paulo', 'Campinas', 'Indaiatuba')\n",
    "# b) ['Porto Alegre', 'São Paulo','Campinas', 'Indaiatuba']\n",
    "# c) ('Porto Alegre', 'São Paulo', ['Campinas', 'Indaiatuba'])\n",
    "# d) Erro"
   ]
  },
  {
   "cell_type": "code",
   "execution_count": 25,
   "metadata": {},
   "outputs": [
    {
     "ename": "TypeError",
     "evalue": "can't multiply sequence by non-int of type 'tuple'",
     "output_type": "error",
     "traceback": [
      "\u001b[1;31m---------------------------------------------------------------------------\u001b[0m",
      "\u001b[1;31mTypeError\u001b[0m                                 Traceback (most recent call last)",
      "Cell \u001b[1;32mIn [25], line 6\u001b[0m\n\u001b[0;32m      3\u001b[0m capitais \u001b[39m=\u001b[39m (\u001b[39m'\u001b[39m\u001b[39mPorto Alegre\u001b[39m\u001b[39m'\u001b[39m, \u001b[39m'\u001b[39m\u001b[39mSão Paulo\u001b[39m\u001b[39m'\u001b[39m)\n\u001b[0;32m      4\u001b[0m cidades \u001b[39m=\u001b[39m (\u001b[39m'\u001b[39m\u001b[39mCampinas\u001b[39m\u001b[39m'\u001b[39m, \u001b[39m'\u001b[39m\u001b[39mIndaiatuba\u001b[39m\u001b[39m'\u001b[39m)\n\u001b[1;32m----> 6\u001b[0m capitais \u001b[39m*\u001b[39;49m cidades\n\u001b[0;32m      8\u001b[0m \u001b[39m# a) ('Porto Alegre', 'São Paulo', 'Campinas', 'Indaiatuba')\u001b[39;00m\n\u001b[0;32m      9\u001b[0m \u001b[39m# b) ['Porto Alegre', 'São Paulo', 'Campinas', 'Indaiatuba']\u001b[39;00m\n\u001b[0;32m     10\u001b[0m \u001b[39m# c) Erro\u001b[39;00m\n",
      "\u001b[1;31mTypeError\u001b[0m: can't multiply sequence by non-int of type 'tuple'"
     ]
    }
   ],
   "source": [
    "# Qual a saída do código?\n",
    "\n",
    "capitais = ('Porto Alegre', 'São Paulo')\n",
    "cidades = ('Campinas', 'Indaiatuba')\n",
    "\n",
    "capitais * cidades\n",
    "\n",
    "# a) ('Porto Alegre', 'São Paulo', 'Campinas', 'Indaiatuba')\n",
    "# b) ['Porto Alegre', 'São Paulo', 'Campinas', 'Indaiatuba']\n",
    "# c) Erro"
   ]
  },
  {
   "cell_type": "code",
   "execution_count": 26,
   "metadata": {},
   "outputs": [
    {
     "data": {
      "text/plain": [
       "('Porto Alegre', 'São Paulo', 'Porto Alegre', 'São Paulo')"
      ]
     },
     "execution_count": 26,
     "metadata": {},
     "output_type": "execute_result"
    }
   ],
   "source": [
    "# Qual a saída do código?\n",
    "\n",
    "capitais = ('Porto Alegre', 'São Paulo')\n",
    "cidades = ('Campinas', 'Indaiatuba')\n",
    "\n",
    "capitais * 2\n",
    "\n",
    "# a) ('Porto Alegre', 'São Paulo', 'Campinas', 'Indaiatuba')\n",
    "# b) ['Porto Alegre', 'São Paulo', 'Campinas', 'Indaiatuba']\n",
    "# c) Erro"
   ]
  },
  {
   "cell_type": "code",
   "execution_count": 27,
   "metadata": {},
   "outputs": [
    {
     "ename": "ValueError",
     "evalue": "too many values to unpack (expected 2)",
     "output_type": "error",
     "traceback": [
      "\u001b[1;31m---------------------------------------------------------------------------\u001b[0m",
      "\u001b[1;31mValueError\u001b[0m                                Traceback (most recent call last)",
      "Cell \u001b[1;32mIn [27], line 3\u001b[0m\n\u001b[0;32m      1\u001b[0m \u001b[39m# Esta operação é possível?\u001b[39;00m\n\u001b[1;32m----> 3\u001b[0m um, dois \u001b[39m=\u001b[39m (\u001b[39m'\u001b[39m\u001b[39mPorto Alegre\u001b[39m\u001b[39m'\u001b[39m, \u001b[39m'\u001b[39m\u001b[39mSão Paulo\u001b[39m\u001b[39m'\u001b[39m, \u001b[39m'\u001b[39m\u001b[39mMaceió\u001b[39m\u001b[39m'\u001b[39m)\n\u001b[0;32m      5\u001b[0m \u001b[39m# a) sim\u001b[39;00m\n\u001b[0;32m      6\u001b[0m \u001b[39m# b) não\u001b[39;00m\n",
      "\u001b[1;31mValueError\u001b[0m: too many values to unpack (expected 2)"
     ]
    }
   ],
   "source": [
    "# Esta operação é possível?\n",
    "\n",
    "um, dois = ('Porto Alegre', 'São Paulo', 'Maceió')\n",
    "\n",
    "# a) sim\n",
    "# b) não"
   ]
  },
  {
   "cell_type": "code",
   "execution_count": 30,
   "metadata": {},
   "outputs": [
    {
     "name": "stdout",
     "output_type": "stream",
     "text": [
      "Porto Alegre\n",
      "['São Paulo', 'Maceió']\n"
     ]
    }
   ],
   "source": [
    "# Esta operação é possível?\n",
    "\n",
    "um, *dois = ('Porto Alegre', 'São Paulo', 'Maceió')\n",
    "print(um)\n",
    "print(dois)\n",
    "# a) sim\n",
    "# b) não"
   ]
  },
  {
   "cell_type": "code",
   "execution_count": 31,
   "metadata": {},
   "outputs": [
    {
     "data": {
      "text/plain": [
       "[('Porto Alegre', 'Campinas'), ('São Paulo', 'Indaiatuba')]"
      ]
     },
     "execution_count": 31,
     "metadata": {},
     "output_type": "execute_result"
    }
   ],
   "source": [
    "# Qual a saída do código?\n",
    "\n",
    "capitais = ('Porto Alegre', 'São Paulo',)\n",
    "cidades = ('Campinas', 'Indaiatuba', 'São José dos Campos')\n",
    "\n",
    "list(zip(capitais, cidades))\n",
    "\n",
    "# a) [('Porto Alegre', 'Campinas'), ('São Paulo', 'Indaiatuba'), (None, 'São José dos Campos')]\n",
    "# b) [('Porto Alegre', 'Campinas'), ('São Paulo', 'Indaiatuba'), ( , 'São José dos Campos')]\n",
    "# c) [('Porto Alegre', 'Campinas'), ('São Paulo', 'Indaiatuba')]\n",
    "# d) []\n",
    "# e) <zip at xxxxx>\n"
   ]
  },
  {
   "cell_type": "code",
   "execution_count": 33,
   "metadata": {},
   "outputs": [
    {
     "name": "stdout",
     "output_type": "stream",
     "text": [
      "<zip object at 0x000002048A8E9700>\n"
     ]
    }
   ],
   "source": [
    "# Qual a saída do código?\n",
    "\n",
    "capitais = ('Porto Alegre', 'São Paulo',)\n",
    "cidades = ('Campinas', 'Indaiatuba', 'São José dos Campos')\n",
    "\n",
    "zip(capitais, cidades)\n",
    "print(zip(capitais, cidades))\n",
    "\n",
    "variavel = zip(capitais, cidades)\n",
    "\n",
    "\n",
    "\n",
    "# a) (('Porto Alegre', 'Campinas'), ('São Paulo', 'Indaiatuba'), (None, 'São José dos Campos'))\n",
    "# b) (('Porto Alegre', 'Campinas'), ('São Paulo', 'Indaiatuba'), ( , 'São José dos Campos'))\n",
    "# c) (('Porto Alegre', 'Campinas'), ('São Paulo', 'Indaiatuba'))\n",
    "# d) ()\n",
    "# e) <zip at xxxxx>"
   ]
  },
  {
   "cell_type": "markdown",
   "metadata": {},
   "source": [
    "# Enquete sobre aula de sexta\n",
    "\n",
    "Decidido por enquete que vamos ter aula na sexta feira."
   ]
  },
  {
   "cell_type": "markdown",
   "metadata": {},
   "source": [
    "# Conteúdo novo: Named Tuples\n",
    "\n",
    "Listas e tuplas podem ser ordenadas e acessadas através de índices.\n",
    "\n",
    "Named Tuples são estruturas que estão na intersecção das listas/tuplas e dicionários (e até mesmo de classes). Elas permitem acesso tanto por chave quanto via índices.\n",
    "\n",
    "\n",
    "Para declarar uma named tuple, informamos o nome dela e uma lista com o nome dos campos associados a ela."
   ]
  },
  {
   "cell_type": "code",
   "execution_count": 48,
   "metadata": {},
   "outputs": [
    {
     "name": "stdout",
     "output_type": "stream",
     "text": [
      "Carro(Marca='Volkswagen', Modelo='Jetta', Ano_Fabricacao=2012)\n",
      "{'Marca': 'Volkswagen', 'Modelo': 'Jetta', 'Ano_Fabricacao': 2012}\n"
     ]
    }
   ],
   "source": [
    "from collections import namedtuple\n",
    "\n",
    "Carro = namedtuple('Carro', 'Marca Modelo Ano_Fabricacao')\n",
    "Carro = namedtuple('Carro', ['Marca', 'Modelo', 'Ano_Fabricacao'])\n",
    "\n",
    "carro_1 = Carro('Volkswagen', 'Jetta', 2012)\n",
    "\n",
    "print(carro_1)\n",
    "\n",
    "# Imprimir como dicionário\n",
    "carro_como_dicionario = carro_1._asdict()\n",
    "print(carro_como_dicionario)"
   ]
  },
  {
   "cell_type": "code",
   "execution_count": 54,
   "metadata": {},
   "outputs": [
    {
     "name": "stdout",
     "output_type": "stream",
     "text": [
      "Volkswagen\n",
      "Jetta\n",
      "2012\n",
      "\n",
      "Volkswagen\n",
      "Jetta\n",
      "2012\n",
      "\n",
      "Volkswagen\n",
      "Jetta\n",
      "2012\n",
      "\n",
      "Volkswagen\n",
      "Jetta\n",
      "2012\n",
      "\n"
     ]
    },
    {
     "ename": "AttributeError",
     "evalue": "can't set attribute",
     "output_type": "error",
     "traceback": [
      "\u001b[1;31m---------------------------------------------------------------------------\u001b[0m",
      "\u001b[1;31mAttributeError\u001b[0m                            Traceback (most recent call last)",
      "Cell \u001b[1;32mIn [54], line 26\u001b[0m\n\u001b[0;32m     23\u001b[0m \u001b[39mprint\u001b[39m()\n\u001b[0;32m     25\u001b[0m \u001b[39m# carro_1[2] = 2010\u001b[39;00m\n\u001b[1;32m---> 26\u001b[0m carro_1\u001b[39m.\u001b[39;49mAno_Fabricacao \u001b[39m=\u001b[39m \u001b[39m2010\u001b[39m\n",
      "\u001b[1;31mAttributeError\u001b[0m: can't set attribute"
     ]
    }
   ],
   "source": [
    "print(carro_1.Marca)\n",
    "print(carro_1.Modelo)\n",
    "print(carro_1.Ano_Fabricacao)\n",
    "\n",
    "print()\n",
    "\n",
    "print(carro_1[0])\n",
    "print(carro_1[1])\n",
    "print(carro_1[2])\n",
    "\n",
    "print()\n",
    "\n",
    "for campo in carro_1:\n",
    "    print(campo)\n",
    "\n",
    "print()\n",
    "\n",
    "marca, modelo, ano = carro_1\n",
    "print(marca)\n",
    "print(modelo)\n",
    "print(ano)\n",
    "\n",
    "print()\n",
    "\n",
    "carro_1[2] = 2010\n",
    "carro_1.Ano_Fabricacao = 2010"
   ]
  },
  {
   "cell_type": "code",
   "execution_count": null,
   "metadata": {},
   "outputs": [],
   "source": [
    "Carro = namedtuple('Carro', ['Marca', 'Modelo', 'Ano_Fabricacao'])\n",
    "carro_1 = Carro('Volkswagen', 'Jetta', 2012)\n",
    "\n",
    "# protótipo não funcional de classe, pra comparar com tupla nomeada.\n",
    "class Carro():\n",
    "    def __init__(self, marca, modelo, ano) -> None:\n",
    "        self.marca = marca\n",
    "        self.modelo = modelo\n",
    "        self.ano = ano\n",
    "\n",
    "\n"
   ]
  },
  {
   "cell_type": "markdown",
   "metadata": {},
   "source": [
    "Exercícios:\n",
    "\n",
    "### Exercício 1\n",
    "\n",
    "Crie uma agenda telefônica no console para que seja possível adicionar contatos, contendo as seguintes características\n",
    "\n",
    "Contato\n",
    "- Nome do contato\n",
    "- Telefone\n",
    "- Email\n",
    "\n",
    "Na agenda deve ser possível:\n",
    "- Adicionar um contato\n",
    "- Remover um contato\n",
    "- Listar todos os contatos (trazendo todos os dados do contato)\n",
    "- Listar todos os contatos de forma resumida (trazendo somente o nome do contato)\n",
    "- Buscar contatos por nome\n",
    "\n",
    "\n",
    "Obs:\n",
    "\n",
    "\n",
    "Para armazenar os dados no programa utilize um dicionário."
   ]
  },
  {
   "cell_type": "markdown",
   "metadata": {},
   "source": [
    "### Exercício 2\n",
    "\n",
    "Vamos criar um sistema básico de uma empresa, que cadastra e lista fucionários.\n",
    "\n",
    "Cada funcionário possui os seguintes atributos: matricula, nome completo, departamento e cargo.\n",
    "\n",
    "No sistema da empresa deve ser possível:\n",
    "\n",
    "- Inserir funcionários\n",
    "- Consultar um único funcionário pela matrícula\n",
    "- Listar todos os funcionários\n",
    "- Apagar funcionários do sistema\n",
    "- Consultar funcionários por palavras chave(nome, ou parte do nome, parte do nome do departamento, etc). Neste caso é necessário informar qual campo vai ser utilizado. \n",
    "    \n",
    "Ex:\n",
    "\n",
    "Uma empresa que contenha os departamentos ['financeiro', 'controladoria', 'curadoria'], ao consultar por \"Deparamento > oria\", devolve ['controladoria', 'curadoria']\n",
    "    \n",
    "    \n",
    "\n",
    "\n",
    "Obs:\n",
    "\n",
    "Para armazenar os dados no programa utilize um dicionário."
   ]
  },
  {
   "cell_type": "markdown",
   "metadata": {},
   "source": [
    "### Exercício 3\n",
    "\n",
    "Crie um dicionário cuja chave seja o nome da seleção campeão na copa do mundo e o valor seja o número de títulos que a seleção possui.\n",
    "\n",
    "Lembrando que a copa do mundo iniciou em 1930.\n",
    "\n",
    "Ao final, imprima o dicionário"
   ]
  },
  {
   "cell_type": "markdown",
   "metadata": {},
   "source": [
    "# Conteúdo novo: Dicionários\n",
    "\n",
    "lista[numero]\n",
    "\n",
    "dicionario[chave] = valor\n",
    "\n",
    "calculo de hash\n",
    "'string' -> 5\n",
    "\n",
    "dicionario['string'] = valor\n",
    "\n",
    "lista -> 12\n",
    "dicionario[lista] = valor\n",
    "\n",
    "insere valor na lista\n",
    "\n",
    "lista -> 25\n",
    "dicionario[lista] = valor\n",
    "\n",
    "candidatos a chaves de dicionários:\n",
    "strings\n",
    "inteiros\n",
    "tuplas, desde que elas contenham string, inteiros ou tuplas\n",
    "\n",
    "classes podem ser chaves, desde que sejam hasheaveis (hashable)"
   ]
  },
  {
   "cell_type": "code",
   "execution_count": 58,
   "metadata": {},
   "outputs": [
    {
     "name": "stdout",
     "output_type": "stream",
     "text": [
      "-8978203720619317261\n",
      "-8978203720619317261\n"
     ]
    },
    {
     "ename": "TypeError",
     "evalue": "unhashable type: 'list'",
     "output_type": "error",
     "traceback": [
      "\u001b[1;31m---------------------------------------------------------------------------\u001b[0m",
      "\u001b[1;31mTypeError\u001b[0m                                 Traceback (most recent call last)",
      "Cell \u001b[1;32mIn [58], line 7\u001b[0m\n\u001b[0;32m      4\u001b[0m \u001b[39mprint\u001b[39m(\u001b[39mhash\u001b[39m(variavel))\n\u001b[0;32m      6\u001b[0m lista \u001b[39m=\u001b[39m [\u001b[39m1\u001b[39m,\u001b[39m2\u001b[39m,\u001b[39m3\u001b[39m]\n\u001b[1;32m----> 7\u001b[0m \u001b[39mprint\u001b[39m(\u001b[39mhash\u001b[39;49m(lista))\n",
      "\u001b[1;31mTypeError\u001b[0m: unhashable type: 'list'"
     ]
    }
   ],
   "source": [
    "print(hash('string'))\n",
    "\n",
    "variavel = 'string'\n",
    "print(hash(variavel))\n",
    "\n",
    "lista = [1,2,3]\n",
    "print(hash(lista))"
   ]
  },
  {
   "cell_type": "code",
   "execution_count": 61,
   "metadata": {},
   "outputs": [
    {
     "name": "stdout",
     "output_type": "stream",
     "text": [
      "{'a': 2, 'b': 3}\n"
     ]
    }
   ],
   "source": [
    "print({'a': 2, 'b': 3})"
   ]
  },
  {
   "cell_type": "code",
   "execution_count": 64,
   "metadata": {},
   "outputs": [
    {
     "name": "stdout",
     "output_type": "stream",
     "text": [
      "{'ana': 20, 'paula': 30, 'lucas': 40}\n",
      "{'Ana': 10, 'Lucas': 20}\n"
     ]
    }
   ],
   "source": [
    "# inicialização\n",
    "dicionario = {}\n",
    "dicionario = dict()\n",
    "\n",
    "dicionario = dict([('ana', 20), ('paula', 30), ('lucas', 40)])\n",
    "print(dicionario)\n",
    "\n",
    "dicionario = dict(Ana=10, Lucas=20)\n",
    "print(dicionario)\n",
    "\n",
    "# na aula 4\n",
    "# args, kwargs"
   ]
  },
  {
   "cell_type": "code",
   "execution_count": 68,
   "metadata": {},
   "outputs": [
    {
     "name": "stdout",
     "output_type": "stream",
     "text": [
      "['apple', 'banana', 'mango']\n",
      "['apple', 'banana', 'mango']\n",
      "{1: 2, 2: 4, 3: 8, 4: 16, 5: 32, 6: 64, 7: 128, 8: 256, 9: 512, 10: 1024}\n",
      "{1: 2, 2: 4, 3: 8, 4: 16, 5: 32, 6: 64, 7: 128, 8: 256, 9: 512, 10: 1024}\n"
     ]
    }
   ],
   "source": [
    "# list comprehension\n",
    "newlist = []\n",
    "fruits = [\"apple\", \"banana\", \"cherry\", \"kiwi\", \"mango\"]\n",
    "for x in fruits:\n",
    "  if \"a\" in x:\n",
    "    newlist.append(x)\n",
    "print(newlist)\n",
    "\n",
    "newlist = [x for x in fruits if \"a\" in x]\n",
    "print(newlist)\n",
    "\n",
    "# dict comprehension\n",
    "# `{chave: valor for elemento in iteravel}`\n",
    "\n",
    "potencias_de_2 = {numero: pow(2,numero) for numero in range(1,11)}\n",
    "print(potencias_de_2)\n",
    "\n",
    "potencias_de_2 = {}\n",
    "for numero in range(1,11):\n",
    "    potencias_de_2[numero] = pow(2,numero)\n",
    "print(potencias_de_2)\n",
    "\n"
   ]
  },
  {
   "cell_type": "code",
   "execution_count": 72,
   "metadata": {},
   "outputs": [
    {
     "name": "stdout",
     "output_type": "stream",
     "text": [
      "{1: 2, 2: 4, 3: 8, 4: 16, 5: 32, 6: 64, 7: 128, 8: 256, 9: 512, 10: 1024}\n",
      "{1: 555, 2: 4, 3: 8, 4: 16, 5: 32, 6: 64, 7: 128, 8: 256, 9: 512, 10: 1024}\n",
      "\n",
      "555\n",
      "{2: 4, 3: 8, 4: 16, 5: 32, 6: 64, 7: 128, 8: 256, 9: 512, 10: 1024}\n"
     ]
    },
    {
     "ename": "NameError",
     "evalue": "name 'potencias_de_2' is not defined",
     "output_type": "error",
     "traceback": [
      "\u001b[1;31m---------------------------------------------------------------------------\u001b[0m",
      "\u001b[1;31mNameError\u001b[0m                                 Traceback (most recent call last)",
      "Cell \u001b[1;32mIn [72], line 19\u001b[0m\n\u001b[0;32m     17\u001b[0m \u001b[39m# limpar dicionario\u001b[39;00m\n\u001b[0;32m     18\u001b[0m \u001b[39mdel\u001b[39;00m potencias_de_2\n\u001b[1;32m---> 19\u001b[0m \u001b[39mprint\u001b[39m(potencias_de_2)\n",
      "\u001b[1;31mNameError\u001b[0m: name 'potencias_de_2' is not defined"
     ]
    }
   ],
   "source": [
    "potencias_de_2 = {numero: pow(2,numero) for numero in range(1,11)}\n",
    "print(potencias_de_2)\n",
    "\n",
    "# inserir e atualizar\n",
    "potencias_de_2[1] = 555\n",
    "print(potencias_de_2)\n",
    "\n",
    "print()\n",
    "\n",
    "# ler valor da chave\n",
    "print(potencias_de_2[1])\n",
    "\n",
    "# apagar chave e valor\n",
    "del potencias_de_2[1]\n",
    "print(potencias_de_2)\n",
    "\n",
    "# limpar dicionario\n",
    "del potencias_de_2\n",
    "print(potencias_de_2)\n",
    "\n",
    "potencias_de_2 = {}"
   ]
  },
  {
   "cell_type": "code",
   "execution_count": 81,
   "metadata": {},
   "outputs": [
    {
     "name": "stdout",
     "output_type": "stream",
     "text": [
      "t -> 2\n",
      "e -> 2\n",
      "s -> 1\n"
     ]
    }
   ],
   "source": [
    "# operador in, pra verificar se a chave existe\n",
    "\n",
    "import string\n",
    "from typing import Dict\n",
    "\n",
    "def imprimir_dicionario(dic: Dict) -> None:\n",
    "    for k, v in dic.items():\n",
    "        print(f'{k} -> {v}')\n",
    "\n",
    "def calcular_frequencia_letras(frase: string) -> dict:\n",
    "    frase = frase.replace(' ', '').lower()\n",
    "    resposta = {}\n",
    "    for letra in frase:\n",
    "        if letra in resposta:\n",
    "            resposta[letra] += 1\n",
    "        else:\n",
    "            resposta[letra] = 1\n",
    "    return resposta\n",
    "\n",
    "# frase = 'À noite, vovô Kowalsky vê o ímã cair no pé do pinguim queixoso e vovó põe açúcar no chá de tâmaras do jabuti feliz' # 90 letras, incluíndo todas as letras acentuadas\n",
    "frase = 'teste'\n",
    "frequencia = calcular_frequencia_letras(frase)\n",
    "imprimir_dicionario(frequencia)"
   ]
  },
  {
   "cell_type": "code",
   "execution_count": 79,
   "metadata": {},
   "outputs": [
    {
     "name": "stdout",
     "output_type": "stream",
     "text": [
      "10\n",
      "10\n",
      "None\n",
      "5\n"
     ]
    }
   ],
   "source": [
    "# Métodos de dicionários\n",
    "\n",
    "##Get\n",
    "notas = { 'luiza': 10, 'pedro': 8.5, 'paula': 9 }\n",
    "\n",
    "print(notas['luiza'])\n",
    "# key error\n",
    "# print(notas['marcelo'])\n",
    "\n",
    "valor = notas.get('luiza')\n",
    "print(valor)\n",
    "valor = notas.get('marcelo')\n",
    "print(valor)\n",
    "\n",
    "valor = notas.get('marcelo', 5)\n",
    "print(valor)"
   ]
  },
  {
   "cell_type": "code",
   "execution_count": 85,
   "metadata": {},
   "outputs": [
    {
     "name": "stdout",
     "output_type": "stream",
     "text": [
      "\n",
      "resposta antes da atualização {'t': 1}, valor: 1\n",
      "resposta depois da atualização {'t': 1}\n",
      "resposta antes da atualização {'t': 1, 'e': 1}, valor: 1\n",
      "resposta depois da atualização {'t': 1, 'e': 1}\n",
      "resposta antes da atualização {'t': 1, 'e': 1}, valor: 1\n",
      "resposta depois da atualização {'t': 1, 'e': 1}\n",
      "t -> 1\n",
      "e -> 1\n"
     ]
    }
   ],
   "source": [
    "# setdefault\n",
    "\n",
    "#setdefault retorna o valor da chave, ou insere a chave e o valor com o valor passado para ele\n",
    "import string\n",
    "from typing import Dict\n",
    "\n",
    "def imprimir_dicionario(dic: Dict) -> None:\n",
    "    for k, v in dic.items():\n",
    "        print(f'{k} -> {v}')\n",
    "\n",
    "def calcular_frequencia_letras(frase: string) -> dict:\n",
    "    frase = frase.replace(' ', '').lower()\n",
    "    resposta = {}\n",
    "    for letra in frase:\n",
    "        valor = resposta.setdefault(letra,0)\n",
    "        # consultar a chave no dicionário.\n",
    "        # se a chave existe, ele devolve o valor associado aquela chave\n",
    "        # se não existe, ele insere a chave no dicionário, com o valor passado por parâmetro\n",
    "        # print para debug\n",
    "        # print(f'resposta antes da atualização {resposta}, valor: {valor}')\n",
    "        # se o valor for igual a zero, atribui 1 para a chave 'letra'\n",
    "        # se o valor for diferente de zero, incrementa o valor em 1 e atribui para a chave 'letra'\n",
    "        resposta[letra] = 1 if valor == 0 else valor + 1\n",
    "        # print para debug\n",
    "        # print(f'resposta depois da atualização {resposta}, valor: {valor}')\n",
    "\n",
    "        # método antigo, ao invés do setdefault\n",
    "        # if letra in resposta:\n",
    "        #     resposta[letra] += 1\n",
    "        # else:\n",
    "        #     resposta[letra] = 1\n",
    "    return resposta\n",
    "\n",
    "# frase = 'À noite, vovô Kowalsky vê o ímã cair no pé do pinguim queixoso e vovó põe açúcar no chá de tâmaras do jabuti feliz' # 90 letras, incluíndo todas as letras acentuadas\n",
    "frase = 'tet'\n",
    "print()\n",
    "frequencia = calcular_frequencia_letras(frase)\n",
    "imprimir_dicionario(frequencia)"
   ]
  },
  {
   "cell_type": "code",
   "execution_count": 86,
   "metadata": {},
   "outputs": [
    {
     "name": "stdout",
     "output_type": "stream",
     "text": [
      "{'luiza': 5, 'pedro': 8.5, 'paula': 9}\n",
      "{'luiza': 10, 'pedro': 8.5, 'paula': 9}\n"
     ]
    }
   ],
   "source": [
    "# Copy\n",
    "\n",
    "notas = { 'luiza': 10, 'pedro': 8.5, 'paula': 9 }\n",
    "copia_notas = notas.copy()\n",
    "\n",
    "notas['luiza'] = 5\n",
    "\n",
    "print(notas)\n",
    "print(copia_notas)"
   ]
  },
  {
   "cell_type": "code",
   "execution_count": 93,
   "metadata": {},
   "outputs": [
    {
     "name": "stdout",
     "output_type": "stream",
     "text": [
      "{'Bola': 59.9, 'Chuteira': 199.9, 'Meias': 39.9, 'Calção': 99.9, 'Caneleiras': 79.9}\n",
      "{'Calção': 99.9, 'Caneleiras': 79.9}\n",
      "{'Bola': 59.9, 'Chuteira': 199.9, 'Meias': 39.9, 'Calção': 99.9, 'Caneleiras': 79.9, 'Camiseta': 189.9, 0: 189.9, 'Apito': 29.9}\n",
      "{'Bola': 59.9, 'Chuteira': 199.9, 'Meias': 39.9, 'Calção': 99.9, 'Caneleiras': 79.9, 'Camiseta': 139.9, 0: 189.9, 'Apito': 29.9}\n",
      "{'Bola': 59.9, 'Chuteira': 199.9, 'Meias': 39.9, 'Calção': 99.9, 'Caneleiras': 79.9, 'Camiseta': 119.9, 0: 189.9, 'Apito': 29.9}\n"
     ]
    }
   ],
   "source": [
    "# Update\n",
    "\n",
    "# juntar dois dicionarios\n",
    "produtos_sacola_1 = {'Bola': 59.90, 'Chuteira': 199.90, 'Meias': 39.90}\n",
    "produtos_sacola_2 = {'Calção': 99.90, 'Caneleiras': 79.90}\n",
    "\n",
    "produtos_sacola_1.update(produtos_sacola_2)\n",
    "print(produtos_sacola_1)\n",
    "print(produtos_sacola_2)\n",
    "\n",
    "# inserir no dicionario\n",
    "produtos_sacola_1.update({'Camiseta': 189.90})\n",
    "produtos_sacola_1['Camiseta'] = 189.90\n",
    "produtos_sacola_1[0] = 189.90 # não funciona, ele adiciona a chave 0\n",
    "produtos_sacola_1.update(Apito=29.90)\n",
    "print(produtos_sacola_1)\n",
    "\n",
    "# alterar valor no dicionario\n",
    "produtos_sacola_1.update({'Camiseta': 139.90})\n",
    "print(produtos_sacola_1)\n",
    "\n",
    "# alterar valor no dicionario\n",
    "produtos_sacola_1.update(Camiseta=119.90)\n",
    "print(produtos_sacola_1)"
   ]
  },
  {
   "cell_type": "code",
   "execution_count": 95,
   "metadata": {},
   "outputs": [
    {
     "name": "stdout",
     "output_type": "stream",
     "text": [
      "59.9\n",
      "{'Chuteira': 199.9, 'Meias': 39.9}\n",
      "('Meias', 39.9)\n",
      "{'Chuteira': 199.9}\n"
     ]
    }
   ],
   "source": [
    "# pop e popitem\n",
    "\n",
    "produtos_sacola_1 = {'Bola': 59.90, 'Chuteira': 199.90, 'Meias': 39.90}\n",
    "removido = produtos_sacola_1.pop('Bola')\n",
    "print(removido)\n",
    "print(produtos_sacola_1)\n",
    "\n",
    "removido = produtos_sacola_1.popitem()\n",
    "print(removido)\n",
    "print(produtos_sacola_1)"
   ]
  },
  {
   "cell_type": "code",
   "execution_count": 96,
   "metadata": {},
   "outputs": [
    {
     "name": "stdout",
     "output_type": "stream",
     "text": [
      "{}\n"
     ]
    }
   ],
   "source": [
    "# Clear\n",
    "\n",
    "produtos_sacola_1 = {'Bola': 59.90, 'Chuteira': 199.90, 'Meias': 39.90}\n",
    "produtos_sacola_1.clear()\n",
    "print(produtos_sacola_1)"
   ]
  },
  {
   "cell_type": "code",
   "execution_count": 100,
   "metadata": {},
   "outputs": [
    {
     "name": "stdout",
     "output_type": "stream",
     "text": [
      "{2018: 'Campeã: França, Vice: Croácia', 2014: 'Campeã: Alemanha, Vice: Argentina', 2010: 'Campeã: Espanha, Vice: Holanda'}\n",
      "2018 => Campeã: França, Vice: Croácia\n",
      "2014 => Campeã: Alemanha, Vice: Argentina\n",
      "2010 => Campeã: Espanha, Vice: Holanda\n",
      "\n",
      "2018\n",
      "2014\n",
      "2010\n",
      "\n",
      "Campeã: França, Vice: Croácia\n",
      "Campeã: Alemanha, Vice: Argentina\n",
      "Campeã: Espanha, Vice: Holanda\n"
     ]
    }
   ],
   "source": [
    "# Items -> itera sobre chave e valor\n",
    "\n",
    "copas = {2018: 'Campeã: França, Vice: Croácia', 2014: 'Campeã: Alemanha, Vice: Argentina', 2010: 'Campeã: Espanha, Vice: Holanda'}\n",
    "print(copas)\n",
    "\n",
    "\n",
    "for k, v in copas.items():\n",
    "    print(k, v, sep=\" => \")\n",
    "\n",
    "\n",
    "\n",
    "# keys -> itera sobre chaves\n",
    "\n",
    "print()\n",
    "\n",
    "for k in copas.keys():\n",
    "    print(k)\n",
    "\n",
    "# values -> itera sobre chaves\n",
    "\n",
    "print()\n",
    "\n",
    "for v in copas.values():\n",
    "    print(v)"
   ]
  },
  {
   "cell_type": "code",
   "execution_count": 101,
   "metadata": {},
   "outputs": [
    {
     "name": "stdout",
     "output_type": "stream",
     "text": [
      "{'pedro': False, 'ana': False, 'paulo': False}\n"
     ]
    }
   ],
   "source": [
    "# fromkeys\n",
    "\n",
    "lista = ['pedro', 'ana', 'paulo']\n",
    "valor = False\n",
    "\n",
    "lista_de_aprovados = dict.fromkeys(lista, valor)\n",
    "print(lista_de_aprovados)"
   ]
  },
  {
   "cell_type": "code",
   "execution_count": 113,
   "metadata": {},
   "outputs": [
    {
     "name": "stdout",
     "output_type": "stream",
     "text": [
      "5\n",
      "100\n",
      "100\n"
     ]
    },
    {
     "ename": "TypeError",
     "evalue": "'operador_1' is an invalid keyword argument for print()",
     "output_type": "error",
     "traceback": [
      "\u001b[1;31m---------------------------------------------------------------------------\u001b[0m",
      "\u001b[1;31mTypeError\u001b[0m                                 Traceback (most recent call last)",
      "Cell \u001b[1;32mIn [113], line 22\u001b[0m\n\u001b[0;32m     20\u001b[0m valores_a_somar \u001b[39m=\u001b[39m {\u001b[39m'\u001b[39m\u001b[39moperador_1\u001b[39m\u001b[39m'\u001b[39m: \u001b[39m25\u001b[39m, \u001b[39m'\u001b[39m\u001b[39moperador_2\u001b[39m\u001b[39m'\u001b[39m: \u001b[39m75\u001b[39m}\n\u001b[0;32m     21\u001b[0m soma(\u001b[39m*\u001b[39m\u001b[39m*\u001b[39mvalores_a_somar)\n\u001b[1;32m---> 22\u001b[0m \u001b[39mprint\u001b[39m(\u001b[39m*\u001b[39m\u001b[39m*\u001b[39mvalores_a_somar)\n",
      "\u001b[1;31mTypeError\u001b[0m: 'operador_1' is an invalid keyword argument for print()"
     ]
    }
   ],
   "source": [
    "# Desempacotamento e Join\n",
    "\n",
    "# desempacotamento com operador **\n",
    "\n",
    "# Na prática, ele desconstrói cada elemento do dicionário em uma chave e valor, \n",
    "# tentando juntar o nome do argumento da função com a chave do dicionário.\n",
    "\n",
    "def soma(operador_1: int, operador_2: int) -> None:\n",
    "    print(operador_1 + operador_2)\n",
    "\n",
    "soma(2,3)\n",
    "\n",
    "valores_a_somar = {'operador_1': 25, 'operador_2': 75}\n",
    "soma(**valores_a_somar)\n",
    "\n",
    "# erro, pois esta esperando operador_2\n",
    "# valores_a_somar = {'operador_1': 25, 'operador_3': 75}\n",
    "# soma(**valores_a_somar)\n",
    "\n",
    "valores_a_somar = {'operador_1': 25, 'operador_2': 75}\n",
    "soma(**valores_a_somar)\n",
    "print(**valores_a_somar)"
   ]
  },
  {
   "cell_type": "code",
   "execution_count": 111,
   "metadata": {},
   "outputs": [
    {
     "name": "stdout",
     "output_type": "stream",
     "text": [
      "175\n"
     ]
    }
   ],
   "source": [
    "valores_a_somar = {'operador_1': 25, 'operador_2': 75, 'operador_3': 75}\n",
    "\n",
    "def soma2(**kwargs):\n",
    "    soma = 0\n",
    "    for k,v in kwargs.items():\n",
    "        soma += v\n",
    "    print(soma)\n",
    "\n",
    "soma2(**valores_a_somar)"
   ]
  },
  {
   "cell_type": "code",
   "execution_count": 118,
   "metadata": {},
   "outputs": [
    {
     "ename": "TypeError",
     "evalue": "'values' is an invalid keyword argument for print()",
     "output_type": "error",
     "traceback": [
      "\u001b[1;31m---------------------------------------------------------------------------\u001b[0m",
      "\u001b[1;31mTypeError\u001b[0m                                 Traceback (most recent call last)",
      "Cell \u001b[1;32mIn [118], line 2\u001b[0m\n\u001b[0;32m      1\u001b[0m valores_a_somar \u001b[39m=\u001b[39m {\u001b[39m'\u001b[39m\u001b[39mvalues\u001b[39m\u001b[39m'\u001b[39m: \u001b[39m222\u001b[39m, \u001b[39m'\u001b[39m\u001b[39mend\u001b[39m\u001b[39m'\u001b[39m: \u001b[39m'\u001b[39m\u001b[39m---\u001b[39m\u001b[39m'\u001b[39m, \u001b[39m'\u001b[39m\u001b[39msep\u001b[39m\u001b[39m'\u001b[39m: \u001b[39m'\u001b[39m\u001b[39m \u001b[39m\u001b[39m'\u001b[39m}\n\u001b[1;32m----> 2\u001b[0m \u001b[39mprint\u001b[39m(\u001b[39m*\u001b[39m\u001b[39m*\u001b[39mvalores_a_somar)\n",
      "\u001b[1;31mTypeError\u001b[0m: 'values' is an invalid keyword argument for print()"
     ]
    }
   ],
   "source": [
    "valores_a_somar = {'values': 222, 'end': '---', 'sep': ' '}\n",
    "print(**valores_a_somar)"
   ]
  },
  {
   "cell_type": "code",
   "execution_count": 120,
   "metadata": {},
   "outputs": [
    {
     "name": "stdout",
     "output_type": "stream",
     "text": [
      "{'Bola': 59.9, 'Chuteira': 199.9, 'Meias': 39.9, 'Calção': 99.9, 'Caneleiras': 79.9, 'Camiseta': 189.9}\n",
      "{'Bola': 59.9, 'Chuteira': 199.9, 'Meias': 39.9, 'Calção': 99.9, 'Caneleiras': 79.9, 'Camiseta': 189.9}\n"
     ]
    },
    {
     "ename": "TypeError",
     "evalue": "unhashable type: 'dict'",
     "output_type": "error",
     "traceback": [
      "\u001b[1;31m---------------------------------------------------------------------------\u001b[0m",
      "\u001b[1;31mTypeError\u001b[0m                                 Traceback (most recent call last)",
      "Cell \u001b[1;32mIn [120], line 15\u001b[0m\n\u001b[0;32m     11\u001b[0m todos_produtos2\u001b[39m.\u001b[39mupdate(produtos_sacola_3)\n\u001b[0;32m     12\u001b[0m \u001b[39mprint\u001b[39m(todos_produtos2)\n\u001b[1;32m---> 15\u001b[0m todos_produtos \u001b[39m=\u001b[39m {produtos_sacola_1, produtos_sacola_2, produtos_sacola_3}\n\u001b[0;32m     16\u001b[0m \u001b[39mprint\u001b[39m(todos_produtos)\n",
      "\u001b[1;31mTypeError\u001b[0m: unhashable type: 'dict'"
     ]
    }
   ],
   "source": [
    "produtos_sacola_1 = {'Bola': 59.90, 'Chuteira': 199.90, 'Meias': 39.90}\n",
    "produtos_sacola_2 = {'Calção': 99.90, 'Caneleiras': 79.90}\n",
    "produtos_sacola_3 = {'Camiseta': 189.90}\n",
    "\n",
    "todos_produtos = {**produtos_sacola_1, **produtos_sacola_2, **produtos_sacola_3}\n",
    "print(todos_produtos)\n",
    "\n",
    "todos_produtos2 = {}\n",
    "todos_produtos2.update(produtos_sacola_1)\n",
    "todos_produtos2.update(produtos_sacola_2)\n",
    "todos_produtos2.update(produtos_sacola_3)\n",
    "print(todos_produtos2)\n",
    "\n",
    "\n",
    "# da erro, pois um dicionário não é hasheável\n",
    "todos_produtos = {produtos_sacola_1, produtos_sacola_2, produtos_sacola_3}\n",
    "print(todos_produtos)"
   ]
  }
 ],
 "metadata": {
  "kernelspec": {
   "display_name": "Python 3.10.5 64-bit",
   "language": "python",
   "name": "python3"
  },
  "language_info": {
   "codemirror_mode": {
    "name": "ipython",
    "version": 3
   },
   "file_extension": ".py",
   "mimetype": "text/x-python",
   "name": "python",
   "nbconvert_exporter": "python",
   "pygments_lexer": "ipython3",
   "version": "3.10.5"
  },
  "orig_nbformat": 4,
  "vscode": {
   "interpreter": {
    "hash": "42478136ef40f8edd3f4cf991c33cffcfc620a666d0dc328e82cc0ef4d7b2c04"
   }
  }
 },
 "nbformat": 4,
 "nbformat_minor": 2
}
