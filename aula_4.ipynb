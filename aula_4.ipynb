{
 "cells": [
  {
   "cell_type": "markdown",
   "metadata": {},
   "source": [
    "## Como ler o conteúdo de um zip direto na memória\n",
    "\n",
    "### https://stackoverflow.com/questions/67565916/read-the-contents-from-memory-in-python\n",
    "\n",
    "\n",
    "\n"
   ]
  },
  {
   "cell_type": "code",
   "execution_count": 1,
   "metadata": {},
   "outputs": [
    {
     "data": {
      "text/plain": [
       "b'\\x02\\x00\\x00\\x00\\x00\\x00\\x00\\x00`\\xbc\\x99\\xe5\\xfe\\x7f\\x00\\x00\\x10\\x00\\x00\\x00\\x00\\x00\\x00\\x00V\\x90\\xf5\\xb2n?&a\\xe4\\x00D\\x00a\\x00t\\x00\\x00\\x00\\x00\\x00\\x00\\x00\\x00\\x00Here is a string\\x00'"
      ]
     },
     "execution_count": 1,
     "metadata": {},
     "output_type": "execute_result"
    }
   ],
   "source": [
    "import ctypes\n",
    "import sys\n",
    "\n",
    "\n",
    "test = \"Here is a string\"\n",
    "addr = id(test) # In CPython, this is the address of the PyObject in memory.\n",
    "\n",
    "size = sys.getsizeof(test)  # this is the size in bytes of the PyObject\n",
    "s = (ctypes.c_char * size).from_address(addr)  # build byte string\n",
    "# display all bytes.  These include internal variables as well as string content\n",
    "s.raw"
   ]
  },
  {
   "cell_type": "markdown",
   "metadata": {},
   "source": [
    "## Parâmetros e retorno de funções \n",
    "\n"
   ]
  },
  {
   "cell_type": "code",
   "execution_count": null,
   "metadata": {},
   "outputs": [],
   "source": [
    "def processa_entrada() -> any:\n",
    "    pass\n",
    "\n",
    "\n",
    "\n",
    "conteudo = processa_entrada()"
   ]
  },
  {
   "cell_type": "code",
   "execution_count": null,
   "metadata": {},
   "outputs": [],
   "source": [
    "import math\n",
    "\n",
    "math.pow()"
   ]
  },
  {
   "cell_type": "code",
   "execution_count": 4,
   "metadata": {},
   "outputs": [
    {
     "name": "stdout",
     "output_type": "stream",
     "text": [
      "6.0\n"
     ]
    }
   ],
   "source": [
    "def teste(a: int, b: float) -> float:\n",
    "    \"\"\"\n",
    "    Multiplica um número inteiro por um número float, sendo ambos positivos\n",
    "\n",
    "    param a: um inteiro positivo\n",
    "    param b: um float positivo\n",
    "    returns: float\n",
    "    raises ValueError: se a ou b forem menor do que zero\n",
    "    \"\"\"\n",
    "    if a < 0 or b < 0:\n",
    "        raise ValueError(\"arg 1 e arg 2 devem ser maiores do que zero.\")\n",
    "    return a*b\n",
    "\n",
    "c = teste(3.0, 2.0)\n",
    "print(c)"
   ]
  },
  {
   "cell_type": "markdown",
   "metadata": {},
   "source": [
    "## Funções com retorno múltiplo\n",
    "\n"
   ]
  },
  {
   "cell_type": "code",
   "execution_count": 5,
   "metadata": {},
   "outputs": [
    {
     "ename": "SyntaxError",
     "evalue": "incomplete input (2368695043.py, line 2)",
     "output_type": "error",
     "traceback": [
      "\u001b[1;36m  Cell \u001b[1;32mIn [5], line 2\u001b[1;36m\u001b[0m\n\u001b[1;33m    \u001b[0m\n\u001b[1;37m    ^\u001b[0m\n\u001b[1;31mSyntaxError\u001b[0m\u001b[1;31m:\u001b[0m incomplete input\n"
     ]
    }
   ],
   "source": [
    "from typing import Tuple\n",
    "\n",
    "\n",
    "def get_value_from_cache(chave: str) -> Tuple:\n",
    "    return 'valor', 'ttl'"
   ]
  },
  {
   "cell_type": "markdown",
   "metadata": {},
   "source": [
    "### Parâmetros com valor padrão\n",
    "\n"
   ]
  },
  {
   "cell_type": "code",
   "execution_count": 6,
   "metadata": {},
   "outputs": [
    {
     "name": "stdout",
     "output_type": "stream",
     "text": [
      "0\n",
      "1\n",
      "2\n",
      "3\n",
      "4\n",
      "\n",
      "1\n",
      "2\n",
      "3\n",
      "4\n",
      "5\n",
      "\n",
      "1\n",
      "3\n",
      "5\n",
      "7\n",
      "9\n"
     ]
    }
   ],
   "source": [
    "for i in range(5):\n",
    "    print(i)\n",
    "\n",
    "print()\n",
    "\n",
    "for i in range(1,6):\n",
    "    print(i)\n",
    "\n",
    "print()\n",
    "for i in range(1,10, 2):\n",
    "    print(i)"
   ]
  },
  {
   "cell_type": "code",
   "execution_count": 7,
   "metadata": {},
   "outputs": [
    {
     "name": "stdout",
     "output_type": "stream",
     "text": [
      "dict_items([('Nome', 'Carlos'), ('CPF', '123'), ('Nome da mãe', 'Esther')])\n",
      "CARLOS\n",
      "123\n",
      "ESTHER\n",
      "NÃO INFORMADO\n"
     ]
    }
   ],
   "source": [
    "def consulta_de_dados():\n",
    "    return {'Nome': 'Carlos', 'CPF':'123', 'Nome da mãe':'Esther'}\n",
    "\n",
    "def nossa_impressao(nome: str, cpf: str, mae: str, tipo_sanguineo: str = \"Não informado\") -> None:\n",
    "    print(nome.upper())\n",
    "    print(cpf.upper())\n",
    "    print(mae.upper())\n",
    "    print(tipo_sanguineo.upper())\n",
    "\n",
    "dados = consulta_de_dados()\n",
    "print(dados.items())\n",
    "nossa_impressao(dados['Nome'], dados['CPF'], dados['Nome da mãe'])\n"
   ]
  },
  {
   "cell_type": "code",
   "execution_count": 28,
   "metadata": {},
   "outputs": [
    {
     "name": "stdout",
     "output_type": "stream",
     "text": [
      "CARLOS\n",
      "123\n",
      "ESTHER\n",
      "O+\n",
      "16/04/1991\n",
      "PORTO ALEGRE\n",
      "RIO GRANDE DO SUL\n"
     ]
    }
   ],
   "source": [
    "def consulta_de_dados():\n",
    "    return {'Nome': 'Carlos', 'CPF':'123', 'Nome da mãe':'Esther', 'Tipo Sanguíneo': 'O+', 'Data de nascimento': '16/04/1991', 'Cidade': 'Porto Alegre', 'Estado': 'Rio Grande do Sul'}\n",
    "\n",
    "def nossa_impressao(*args) -> None:\n",
    "    for item in args:\n",
    "        print(item.upper())\n",
    "\n",
    "dados = consulta_de_dados()\n",
    "# print(dados.items())\n",
    "nossa_impressao(*dados.values())"
   ]
  },
  {
   "cell_type": "code",
   "execution_count": 21,
   "metadata": {},
   "outputs": [
    {
     "name": "stdout",
     "output_type": "stream",
     "text": [
      "dict_items([('Nome', 'Carlos'), ('CPF', '123'), ('Nome da mãe', 'Esther')])\n",
      "CARLOS\n",
      "123\n",
      "ESTHER\n"
     ]
    }
   ],
   "source": [
    "def consulta_de_dados():\n",
    "    return {'Nome': 'Carlos', 'CPF':'123', 'Nome da mãe':'Esther'}\n",
    "\n",
    "def nossa_impressao(nome: str, cpf: str, mae: str, tipo_sanguineo: str = None) -> None:\n",
    "    print(nome.upper())\n",
    "    print(cpf.upper())\n",
    "    print(mae.upper())\n",
    "    if tipo_sanguineo:\n",
    "        print(tipo_sanguineo.upper())\n",
    "\n",
    "dados = consulta_de_dados()\n",
    "print(dados.items())\n",
    "nossa_impressao(dados['Nome'], dados['CPF'], dados['Nome da mãe'])"
   ]
  },
  {
   "cell_type": "code",
   "execution_count": 26,
   "metadata": {},
   "outputs": [
    {
     "name": "stdout",
     "output_type": "stream",
     "text": [
      "dict_items([('nome', 'Carlos'), ('cpf', '123'), ('Nome da mãe', 'Esther'), ('Tipo Sanguíneo', 'O+'), ('Data de nascimento', '16/04/1991'), ('Cidade', 'Porto Alegre'), ('Estado', 'Rio Grande do Sul')])\n",
      "CARLOS\n",
      "123\n"
     ]
    }
   ],
   "source": [
    "def consulta_de_dados():\n",
    "    return {'nome': 'Carlos', 'cpf':'123', 'Nome da mãe':'Esther', 'Tipo Sanguíneo': 'O+', 'Data de nascimento': '16/04/1991', 'Cidade': 'Porto Alegre', 'Estado': 'Rio Grande do Sul'}\n",
    "\n",
    "def nossa_impressao(**kwargs) -> None:\n",
    "    if kwargs['nome']:\n",
    "        print(kwargs['nome'].upper())\n",
    "    if kwargs['cpf']:\n",
    "        print(kwargs['cpf'].upper())\n",
    "\n",
    "dados = consulta_de_dados()\n",
    "print(dados.items())\n",
    "# nossa_impressao(nome=dados['Nome'], cpf=dados['CPF'], nome_mae=dados['Nome da mãe'])\n",
    "nossa_impressao(**dados)"
   ]
  },
  {
   "cell_type": "code",
   "execution_count": 31,
   "metadata": {},
   "outputs": [
    {
     "name": "stdout",
     "output_type": "stream",
     "text": [
      "dict_items([('nome', 'Carlos'), ('cpf', '123'), ('Nome da mãe', 'Esther'), ('Tipo Sanguíneo', 'O+'), ('Data de nascimento', '16/04/1991'), ('Cidade', 'Porto Alegre'), ('Estado', 'Rio Grande do Sul')])\n",
      "chave: nome | valor: Carlos\n",
      "chave: cpf | valor: 123\n",
      "chave: Nome da mãe | valor: Esther\n",
      "chave: Data de nascimento | valor: 16/04/1991\n",
      "chave: Cidade | valor: Porto Alegre\n",
      "chave: Estado | valor: Rio Grande do Sul\n"
     ]
    }
   ],
   "source": [
    "def consulta_de_dados():\n",
    "    return {'nome': 'Carlos', 'cpf':'123', 'Nome da mãe':'Esther', 'Tipo Sanguíneo': 'O+', 'Data de nascimento': '16/04/1991', 'Cidade': 'Porto Alegre', 'Estado': 'Rio Grande do Sul'}\n",
    "\n",
    "def nossa_impressao(**kwargs) -> None:\n",
    "    copia = kwargs.copy()\n",
    "    copia.pop('Tipo Sanguíneo')\n",
    "    for k, v in copia.items():\n",
    "        print(f'chave: {k} | valor: {v}')\n",
    "\n",
    "dados = consulta_de_dados()\n",
    "print(dados.items())\n",
    "# nossa_impressao(nome=dados['Nome'], cpf=dados['CPF'], nome_mae=dados['Nome da mãe'])\n",
    "nossa_impressao(**dados)"
   ]
  },
  {
   "cell_type": "code",
   "execution_count": 32,
   "metadata": {},
   "outputs": [
    {
     "name": "stdout",
     "output_type": "stream",
     "text": [
      "chave: Nome da mãe | valor: Esther\n",
      "chave: Tipo Sanguíneo | valor: O+\n",
      "chave: Data de nascimento | valor: 16/04/1991\n",
      "chave: Cidade | valor: Porto Alegre\n",
      "chave: Estado | valor: Rio Grande do Sul\n",
      "\n",
      "dict_items([('nome', 'Carlos'), ('cpf', '123'), ('Nome da mãe', 'Esther'), ('Tipo Sanguíneo', 'O+'), ('Data de nascimento', '16/04/1991'), ('Cidade', 'Porto Alegre'), ('Estado', 'Rio Grande do Sul')])\n"
     ]
    }
   ],
   "source": [
    "def consulta_de_dados():\n",
    "    return {'nome': 'Carlos', 'cpf':'123', 'Nome da mãe':'Esther', 'Tipo Sanguíneo': 'O+', 'Data de nascimento': '16/04/1991', 'Cidade': 'Porto Alegre', 'Estado': 'Rio Grande do Sul'}\n",
    "\n",
    "def nossa_impressao(**kwargs) -> None:\n",
    "    kwargs.pop('nome')\n",
    "    kwargs.pop('cpf')\n",
    "    for k, v in kwargs.items():\n",
    "        print(f'chave: {k} | valor: {v}')\n",
    "\n",
    "dados = consulta_de_dados()\n",
    "# nossa_impressao(nome=dados['Nome'], cpf=dados['CPF'], nome_mae=dados['Nome da mãe'])\n",
    "nossa_impressao(**dados)\n",
    "\n",
    "print()\n",
    "\n",
    "print(dados.items())"
   ]
  },
  {
   "cell_type": "code",
   "execution_count": 33,
   "metadata": {},
   "outputs": [
    {
     "name": "stdout",
     "output_type": "stream",
     "text": [
      "Datetime: 2022-12-05 20:20:24.547425, Name: Usuário, IP: 187.15.237.18, Operation: Login\n"
     ]
    }
   ],
   "source": [
    "from datetime import datetime\n",
    "def save_log(str_info: str) -> None:\n",
    "    print(str_info)\n",
    "\n",
    "def log_data(**kwargs):\n",
    "    log = []\n",
    "    datetime_log = f'Datetime: {datetime.now()}'\n",
    "    log.append(datetime_log)\n",
    "\n",
    "    for k,v in kwargs.items():\n",
    "        log.append(f'{k}: {v}')\n",
    "\n",
    "    save_log(\", \".join(log))\n",
    "\n",
    "user = {\"Name\": \"Usuário\", \"IP\": \"187.15.237.18\", \"Operation\": \"Login\"}\n",
    "log_data(**user)"
   ]
  },
  {
   "cell_type": "code",
   "execution_count": 38,
   "metadata": {},
   "outputs": [
    {
     "name": "stdout",
     "output_type": "stream",
     "text": [
      "5\n"
     ]
    }
   ],
   "source": [
    "lista = [1,2,3]\n",
    "dicio = {'a': lista}\n",
    "\n",
    "def log_data(**kwargs):\n",
    "    print(kwargs['b'])\n",
    "\n",
    "log_data(**dicio)\n",
    "{'a': lista}\n",
    "log_data(a=3,b=5,c='s')\n"
   ]
  },
  {
   "cell_type": "markdown",
   "metadata": {},
   "source": [
    "#### Misturando parâmetros diferentes\n",
    "\n",
    "1) Parâmetros nomeados obrigatórios (a, b)\n",
    "2) Um número n de parâmetros contidos em uma tupla (*c)\n",
    "3) Parâmetros opcionais e com valores default (d=None, e=1)\n",
    "4) Dicionário contendos os demais valores (**f)\n",
    "\n",
    "conforme assinatura\n",
    "\n",
    "def log(a, b, *c, d=None, e=1, **f)"
   ]
  },
  {
   "cell_type": "code",
   "execution_count": 44,
   "metadata": {},
   "outputs": [
    {
     "name": "stdout",
     "output_type": "stream",
     "text": [
      "Datetime: 2022-12-05 20:38:48.506858, Logged User: Pedro, Route: /api/v1/financial/, Endpoint: transfer, Log Type: INFO, Name: Usuário, IP: 187.15.237.18, Operation:  Bank Transfer\n"
     ]
    }
   ],
   "source": [
    "from datetime import datetime\n",
    "def save_log(str_info: str) -> None:\n",
    "    print(str_info)\n",
    "\n",
    "def log_data(logged_user, *endpoint_route, log_type=\"INFO\", **kwargs):\n",
    "    log = []\n",
    "    datetime_log = f'Datetime: {datetime.now()}'\n",
    "    log.append(datetime_log)\n",
    "\n",
    "    info = f'Logged User: {logged_user}'\n",
    "    log.append(info)\n",
    "\n",
    "    route, endpoint = endpoint_route\n",
    "    info = f'Route: {route}'\n",
    "    log.append(info)\n",
    "\n",
    "    info = f'Endpoint: {endpoint}'\n",
    "    log.append(info)\n",
    "\n",
    "    log.append(f'Log Type: {log_type}')\n",
    "\n",
    "    for k,v in kwargs.items():\n",
    "        log.append(f'{k}: {v}')\n",
    "\n",
    "    save_log(\", \".join(log))\n",
    "\n",
    "user = {\"Name\": \"Usuário\", \"IP\": \"187.15.237.18\", \"Operation\": \"Bank Transfer\"}\n",
    "log_data(\"Pedro\", *(\"/api/v1/financial/\",\"transfer\"), **user)"
   ]
  },
  {
   "cell_type": "code",
   "execution_count": null,
   "metadata": {},
   "outputs": [],
   "source": [
    "{\n",
    "    'id': 'uuid',\n",
    "    'nome': 'nome',\n",
    "    'email': 'email',\n",
    "    'cpf': 'cpf',\n",
    "    'pesquisavel': 'uuid|nome|email|cpf'\n",
    "}\n",
    "\n",
    "# dicionario de pereciveis\n",
    "\n",
    "# dicionario de nao pereciveis"
   ]
  },
  {
   "cell_type": "code",
   "execution_count": 58,
   "metadata": {},
   "outputs": [
    {
     "name": "stdout",
     "output_type": "stream",
     "text": [
      "<class '__main__.Carros'>\n",
      "Carros(Marca='Volkswagen', Modelo='Jetta', Ano_Fabricacao='2012')\n",
      "\n",
      "<class '__main__.Carros'>\n",
      "Carros(Marca='Volkswagen', Modelo='Jetta', Ano_Fabricacao='2012')\n",
      "<class '__main__.Carros'>\n",
      "Carros(Portas=4, Rodas=5)\n",
      "\n",
      "Carros(Marca='Volkswagen', Modelo='Jetta', Ano_Fabricacao='2012')\n"
     ]
    }
   ],
   "source": [
    "### Revisão de named tuples\n",
    "\n",
    "from collections import namedtuple\n",
    "Carros = namedtuple(\"Carros\", ['Marca', 'Modelo', 'Ano_Fabricacao'])\n",
    "\n",
    "carro_1 = Carros('Volkswagen', 'Jetta', '2012')\n",
    "print(type(carro_1))\n",
    "print(carro_1)\n",
    "\n",
    "print()\n",
    "\n",
    "tanto_faz = namedtuple(\"Carros\", ['Portas', 'Rodas'])\n",
    "# carro_1 = tanto_faz(4, 5)\n",
    "carro_2 = tanto_faz(4, 5)\n",
    "print(type(carro_1))\n",
    "print(carro_1)\n",
    "\n",
    "print(type(carro_2))\n",
    "print(carro_2)\n",
    "\n",
    "print()\n",
    "\n",
    "carro_3 = Carros('Volkswagen', 'Jetta', '2012')\n",
    "print(carro_3)\n"
   ]
  }
 ],
 "metadata": {
  "kernelspec": {
   "display_name": "Python 3.10.5 64-bit",
   "language": "python",
   "name": "python3"
  },
  "language_info": {
   "codemirror_mode": {
    "name": "ipython",
    "version": 3
   },
   "file_extension": ".py",
   "mimetype": "text/x-python",
   "name": "python",
   "nbconvert_exporter": "python",
   "pygments_lexer": "ipython3",
   "version": "3.10.5"
  },
  "orig_nbformat": 4,
  "vscode": {
   "interpreter": {
    "hash": "42478136ef40f8edd3f4cf991c33cffcfc620a666d0dc328e82cc0ef4d7b2c04"
   }
  }
 },
 "nbformat": 4,
 "nbformat_minor": 2
}
