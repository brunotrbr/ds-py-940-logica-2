{
 "cells": [
  {
   "attachments": {},
   "cell_type": "markdown",
   "metadata": {},
   "source": [
    "# Dívidas da aula anterior"
   ]
  },
  {
   "attachments": {},
   "cell_type": "markdown",
   "metadata": {},
   "source": [
    "### Closures\n",
    "\n",
    "Como nós vimos na aula passada, closures armazenam informações sobre o ambiente em que existia a função, bem como a função em si. Ela permite que seja possível acessar essas informações mesmo que já tenhamos saído do escopo da chamada original, conforme visto abaixo."
   ]
  },
  {
   "cell_type": "code",
   "execution_count": null,
   "metadata": {},
   "outputs": [],
   "source": [
    "class Summer():\n",
    "\n",
    "    def __init__(self):\n",
    "        self.data = []\n",
    "\n",
    "    def __call__(self, val):\n",
    "        self.data.append(val)\n",
    "        _sum = sum(self.data)\n",
    "        return _sum\n",
    "\n",
    "summer = Summer()\n",
    "\n",
    "s = summer(1)\n",
    "print(s)\n",
    "\n",
    "s = summer(8)\n",
    "print(s)\n",
    "\n",
    "s = summer(11)\n",
    "print(s)"
   ]
  },
  {
   "cell_type": "code",
   "execution_count": null,
   "metadata": {},
   "outputs": [],
   "source": [
    "def make_summer():\n",
    "    data = []\n",
    "    def summer(val):\n",
    "        data.append(val)\n",
    "        _sum = sum(data)\n",
    "        return _sum\n",
    "    return summer\n",
    "\n",
    "summer = make_summer()\n",
    "\n",
    "s = summer(1)\n",
    "print(s)\n",
    "\n",
    "s = summer(8)\n",
    "print(s)\n",
    "\n",
    "s = summer(11)\n",
    "print(s)"
   ]
  },
  {
   "attachments": {},
   "cell_type": "markdown",
   "metadata": {},
   "source": [
    "São recomendados para reduzir o uso de variáveis globais, para fornecer uma solução orientada a objetos, entre outras necessidades. Podemos utilizar closures quando queremos armazenar informações sobre o ambiente que vai rodar a função, bem como a classe contém somente um método além do init."
   ]
  },
  {
   "attachments": {},
   "cell_type": "markdown",
   "metadata": {},
   "source": [
    "### Funções lambda\n",
    "\n",
    "Uma função lambda \"calcula\" uma expressão dado um determinado argumento.\n",
    "\n",
    "Prós:\n",
    "- Boas para lógicas simples que são fáceis de entender\n",
    "- Boas para funções de uma única linha\n",
    "- Boas para quando a função vai ser executada uma única vez\n",
    "\n",
    "Contras:\n",
    "- Realizam somente uma expressão por vez\n",
    "- Ruim para funções com múltiplas linhas\n",
    "- Não dá para escrever doc-string explicando as entradas e saídas"
   ]
  },
  {
   "cell_type": "code",
   "execution_count": null,
   "metadata": {},
   "outputs": [],
   "source": [
    "# Normalmente faríamos dessa forma\n",
    "\n",
    "def sum(a, b):\n",
    "    return a + b\n",
    "\n",
    "def sub(a, b):\n",
    "    return a - b\n",
    "\n",
    "def mult(a, b):\n",
    "    return a * b\n",
    "\n",
    "def div(a, b):\n",
    "    return a / b\n",
    "\n",
    "# Declaração com lambda\n",
    "sum_lambda = lambda a, b: a + b\n",
    "sub_lambda = lambda a, b: a - b\n",
    "mult_lambda = lambda a, b: a * b\n",
    "div_lambda = lambda a, b: a / b\n",
    "\n",
    "num_1 = 20\n",
    "num_2 = 4\n",
    "\n",
    "op = \"*\"\n",
    "op2 = \"l*\"\n",
    "\n",
    "res = 0\n",
    "res2 = 0\n",
    "if op == '+':\n",
    "    res = sum(num_1, num_2)\n",
    "elif op == '-':\n",
    "    res = sub(num_1, num_2)\n",
    "elif op == '*':\n",
    "    res = mult(num_1, num_2)\n",
    "elif op == '/':\n",
    "    res = div(num_1, num_2)\n",
    "\n",
    "if op2 == 'l+':\n",
    "    res2 = sum_lambda(num_1, num_2)\n",
    "elif op2 == 'l-':\n",
    "    res2 = sub_lambda(num_1, num_2)\n",
    "elif op2 == 'l*':\n",
    "    res2 = mult_lambda(num_1, num_2)\n",
    "elif op2 == 'l/':\n",
    "    res2 = div_lambda(num_1, num_2)\n",
    "print(res)\n",
    "print(res2)"
   ]
  },
  {
   "attachments": {},
   "cell_type": "markdown",
   "metadata": {},
   "source": [
    "Um outro exemplo de funções lambda\n",
    "\n",
    "Tenho uma lista com identificadores de computadores, e pra não exibir eles diretamente no meu site, eu realizo a criptografia deles. Porém, antes de criptografar, eu preciso adicionar qual o id da empresa que aquele computador pertence.\n",
    "\n",
    "A criptografia recebe uma lista e devolve uma lista.\n",
    "\n",
    "Por exemplo, dado o id AAA-123, da empresa Santander, eu preciso concatenar os dados no formato `<empresa>|<id>`\n",
    "\n",
    "Podemos fazer de pelo menos 2 formas diferentes"
   ]
  },
  {
   "attachments": {},
   "cell_type": "markdown",
   "metadata": {},
   "source": [
    "Uma com funções normais (def funcao....):"
   ]
  },
  {
   "cell_type": "code",
   "execution_count": null,
   "metadata": {},
   "outputs": [],
   "source": [
    "from typing import List\n",
    "prefix = 'santander'\n",
    "list_ids = ['AAA-123', 'AAA-234', 'AAA-345', 'AAA-456']\n",
    "\n",
    "def format_id(pref: str, custom_list: List[str]) -> List[str]:\n",
    "    result_list = []\n",
    "    for item in custom_list:\n",
    "        result_list.append(f'{pref}|{item}')\n",
    "    return result_list\n",
    "\n",
    "print(list_ids)\n",
    "print()\n",
    "formatted_list = format_id(prefix, list_ids)\n",
    "print(formatted_list)\n"
   ]
  },
  {
   "attachments": {},
   "cell_type": "markdown",
   "metadata": {},
   "source": [
    "Outra usando funções anônimas (lambda) e map:"
   ]
  },
  {
   "cell_type": "code",
   "execution_count": null,
   "metadata": {},
   "outputs": [],
   "source": [
    "from typing import List\n",
    "prefix = 'santander'\n",
    "list_ids = ['AAA-123', 'AAA-234', 'AAA-345', 'AAA-456']\n",
    " \n",
    "def format_id(pref: str, custom_list: List[str]) -> List[str]:\n",
    "   return list(map(lambda item: f'{pref}|{item}', custom_list))\n",
    "\n",
    "print(list_ids)\n",
    "print()\n",
    "formatted_list = format_id(prefix, list_ids)\n",
    "print(formatted_list)"
   ]
  },
  {
   "attachments": {},
   "cell_type": "markdown",
   "metadata": {},
   "source": [
    "Usamos lambda, por exemplo, junto com as funções filter, map ou reduce"
   ]
  },
  {
   "cell_type": "code",
   "execution_count": null,
   "metadata": {},
   "outputs": [],
   "source": [
    "# Filter usando uma função comum, pronta, com def\n",
    "def eh_par(x):\n",
    "    return x % 2 == 0\n",
    "\n",
    "numeros = [3, 18, 25, 49, 11, 22, 7]\n",
    "pares = list(filter(eh_par, numeros))\n",
    "# print(pares)\n",
    "\n",
    "# Filter usando uma função lambda\n",
    "numeros = [3, -18, -25, 49, -11, 22, 7]\n",
    "negativos = list(filter(lambda x: x < 0, numeros))\n",
    "# print(negativos)\n",
    "\n",
    "# Filter com compreensão de listas\n",
    "numeros = [3, 18, 25, 49, 11, 22, 7]\n",
    "pares = [x for x in numeros if eh_par(x)]\n",
    "# print(pares)\n",
    "\n",
    "numeros = [3, -18, -25, 49, -11, 22, 7]\n",
    "negativos = [x for x in numeros if x < 0]\n",
    "# print(negativos)\n",
    "\n",
    "def eh_negativo(x):\n",
    "    return x < 0\n",
    "\n",
    "for i in range(5):\n",
    "    print(f'Execução num {i}')\n",
    "    from datetime import datetime\n",
    "    # Avaliação de tempo para 1000000 de execuções com filter e lambda\n",
    "    start_datetime = datetime.now()\n",
    "    for i in range(1000000):\n",
    "        negativos = list(filter(lambda x: x < 0, numeros))\n",
    "    print(datetime.now() - start_datetime)\n",
    "\n",
    "    # Avaliação de tempo para 1000000 de execuções com filter e função pronta com def\n",
    "    start_datetime = datetime.now()\n",
    "    for i in range(1000000):\n",
    "        negativos = list(filter(eh_negativo, numeros))\n",
    "    print(datetime.now() - start_datetime)\n",
    "\n",
    "    # Avaliação de tempo para 1000000 de execuções com compreensão de listas\n",
    "    start_datetime = datetime.now()\n",
    "    for i in range(1000000):\n",
    "        negativos = [x for x in numeros if x < 0]\n",
    "    print(datetime.now() - start_datetime)\n",
    "    print()"
   ]
  },
  {
   "cell_type": "code",
   "execution_count": 30,
   "metadata": {},
   "outputs": [
    {
     "name": "stdout",
     "output_type": "stream",
     "text": [
      "54\n",
      "-54\n",
      "851760\n",
      "-67\n",
      "0\n",
      "Bla bla bla teste\n"
     ]
    }
   ],
   "source": [
    "# reduce\n",
    "from functools import reduce\n",
    "\n",
    "fibonacci = [1,1,2,3,5,8,13,21]\n",
    "\n",
    "\n",
    "somatorio = reduce(lambda x, y: x + y, fibonacci, 0)\n",
    "# ((((((((0 + 1) + 1) + 2) + 3) + 5) + 8) + 13) + 21)\n",
    "print(somatorio)\n",
    "\n",
    "somatorio2 = reduce(lambda x, y: x - y, fibonacci, 0)\n",
    "# ((((((((0 + 1) + 1) + 2) + 3) + 5) + 8) + 13) + 21)\n",
    "print(somatorio2)\n",
    "\n",
    "somatorio3 = reduce(lambda x, y: x * y, fibonacci, 13)\n",
    "# ((((((((13 + 1) + 1) + 2) + 3) + 5) + 8) + 13) + 21)\n",
    "print(somatorio3)\n",
    "\n",
    "somatorio4 = reduce(lambda x, y: x - y, fibonacci, -13)\n",
    "# ((((((((-13 + 1) + 1) + 2) + 3) + 5) + 8) + 13) + 21)\n",
    "print(somatorio4)\n",
    "\n",
    "somatorio5 = reduce(lambda x, y: x * y, fibonacci, 0)\n",
    "# ((((((((0 + 1) + 1) + 2) + 3) + 5) + 8) + 13) + 21)\n",
    "print(somatorio5)\n",
    "\n",
    "\n",
    "lista_de_caracteres = ['t','e','s','t','e']\n",
    "teste = reduce(lambda x, y: str(x + y).capitalize(), lista_de_caracteres, 'bla bla bla ')\n",
    "print(teste)"
   ]
  },
  {
   "attachments": {},
   "cell_type": "markdown",
   "metadata": {},
   "source": [
    "### Categorizar dados"
   ]
  },
  {
   "cell_type": "code",
   "execution_count": null,
   "metadata": {},
   "outputs": [],
   "source": [
    "professores = {\n",
    "    'Brian': 'Python',\n",
    "    'Bruna': 'DevOps',\n",
    "    'Cabral': 'JavaScript',\n",
    "    'Rafael': 'Python',\n",
    "}\n",
    "\n",
    "# {'Python': [], 'JavaScript': [], 'DevOps':[]}\n"
   ]
  },
  {
   "cell_type": "code",
   "execution_count": 31,
   "metadata": {},
   "outputs": [
    {
     "name": "stdout",
     "output_type": "stream",
     "text": [
      "{'Python': ['Brian', 'Rafael'], 'DevOps': ['Bruna'], 'JavaScript': ['Cabral']}\n"
     ]
    }
   ],
   "source": [
    "from functools import reduce\n",
    "\n",
    "def gera_redutor(dicionario):\n",
    "\n",
    "    def redutor(acumulador, chave):\n",
    "        if dicionario[chave] in acumulador:\n",
    "            acumulador[dicionario[chave]].append(chave)\n",
    "        else:\n",
    "            acumulador[dicionario[chave]] = [chave]\n",
    "        return acumulador\n",
    "\n",
    "    return redutor\n",
    "\n",
    "professores = {\n",
    "    'Brian': 'Python',\n",
    "    'Bruna': 'DevOps',\n",
    "    'Cabral': 'JavaScript',\n",
    "    'Rafael': 'Python',\n",
    "}\n",
    "\n",
    "redutor_profs = gera_redutor(professores)\n",
    "\n",
    "profs_por_curso = reduce(redutor_profs,\n",
    "    professores,\n",
    "    {})\n",
    "\n",
    "print(profs_por_curso)"
   ]
  },
  {
   "attachments": {},
   "cell_type": "markdown",
   "metadata": {},
   "source": []
  }
 ],
 "metadata": {
  "kernelspec": {
   "display_name": "Python 3",
   "language": "python",
   "name": "python3"
  },
  "language_info": {
   "codemirror_mode": {
    "name": "ipython",
    "version": 3
   },
   "file_extension": ".py",
   "mimetype": "text/x-python",
   "name": "python",
   "nbconvert_exporter": "python",
   "pygments_lexer": "ipython3",
   "version": "3.10.5"
  },
  "orig_nbformat": 4,
  "vscode": {
   "interpreter": {
    "hash": "42478136ef40f8edd3f4cf991c33cffcfc620a666d0dc328e82cc0ef4d7b2c04"
   }
  }
 },
 "nbformat": 4,
 "nbformat_minor": 2
}
