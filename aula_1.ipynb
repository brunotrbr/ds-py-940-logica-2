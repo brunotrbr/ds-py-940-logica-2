{
 "cells": [
  {
   "cell_type": "code",
   "execution_count": 37,
   "metadata": {},
   "outputs": [
    {
     "name": "stdout",
     "output_type": "stream",
     "text": [
      "[33, 47, 52, 54, 59, 61, 63, 77]\n",
      "[33, 47, 52, 54, 59, 61, 63, 77, [1, 2, 3, [4, 5, 6]]]\n",
      "[33, 47, 52, 54, 59, 61, 63, 77, [1, 2, 3, [4, 5, 6]], 500]\n",
      "[33, 47, 52, 54, 59, 61, 63, 77, [1, 2, 3, [4, 5, 6]], -1]\n"
     ]
    }
   ],
   "source": [
    "frutas = []\n",
    "numeros = list()\n",
    "\n",
    "lista_aleatoria = ['laranja', 10, frutas]\n",
    "\n",
    "# print(frutas)\n",
    "# print(numeros)\n",
    "# print(lista_aleatoria)\n",
    "\n",
    "# print(lista_aleatoria[0])\n",
    "# print(lista_aleatoria[1])\n",
    "\n",
    "frutas.append('laranja')\n",
    "frutas.append('limão')\n",
    "# print(frutas)\n",
    "\n",
    "# print(lista_aleatoria)\n",
    "\n",
    "# print(lista_aleatoria[2][0])\n",
    "\n",
    "# print('Comprimento da lista de frutas: ' + str(len(frutas)))\n",
    "# print(f'Comprimento da lista de frutas: {len(frutas)}')\n",
    "\n",
    "# for i in range(5):\n",
    "#     numeros.append(i)\n",
    "\n",
    "# print(numeros)\n",
    "\n",
    "# for numero in numeros:\n",
    "#     print(numero)\n",
    "\n",
    "# print()\n",
    "\n",
    "# for item in enumerate(numeros):\n",
    "#     print(item) # enumerate\n",
    "\n",
    "from random import random\n",
    "def random_max(max: int):\n",
    "    return int(random() * float(max))\n",
    "\n",
    "for i in range(10):\n",
    "    numeros.append(random_max(100))\n",
    "# print(numeros)\n",
    "\n",
    "lista_1 = [0]\n",
    "lista_2 = lista_1 + numeros\n",
    "# print(lista_2)\n",
    "\n",
    "lista_1.extend(numeros)\n",
    "# print(lista_1)\n",
    "\n",
    "lista_1.sort()\n",
    "# print(lista_1)\n",
    "\n",
    "lista_1.sort(reverse=True)\n",
    "# print(lista_1)\n",
    "\n",
    "lista_1.reverse()\n",
    "# print(lista_1)\n",
    "\n",
    "elemento = lista_1.pop()\n",
    "# print(lista_1)\n",
    "# print(elemento)\n",
    "\n",
    "del lista_1[0]\n",
    "del lista_1[1]\n",
    "print(lista_1)\n",
    "\n",
    "# print(lista_1[0:3])\n",
    "# print(lista_1[1:3])\n",
    "# print(lista_1[2:])\n",
    "# print(lista_1[2:len(lista_1)])\n",
    "# print(lista_1[-3:])\n",
    "\n",
    "# lista_2 = lista_1[:]\n",
    "# print(lista_1)\n",
    "# print(lista_2)\n",
    "# lista_1.append(100)\n",
    "# print(lista_2)\n",
    "# print(lista_1)\n",
    "\n",
    "lista_1.append([1,2,3,[4,5,6]])\n",
    "print(lista_1)\n",
    "\n",
    "lista_3 = lista_1.copy()\n",
    "lista_1.append(500)\n",
    "lista_3.append(-1)\n",
    "print(lista_1)\n",
    "print(lista_3)\n",
    "\n",
    "\n"
   ]
  },
  {
   "cell_type": "code",
   "execution_count": null,
   "metadata": {},
   "outputs": [],
   "source": [
    "# Professor deve trazer a diferença entre shallow copy e deep copy"
   ]
  },
  {
   "cell_type": "code",
   "execution_count": 38,
   "metadata": {},
   "outputs": [
    {
     "name": "stdout",
     "output_type": "stream",
     "text": [
      "[33, 47, 52, 54, 59, 61, 63, 77, [1, 2, 3, [4, 5, 6]], 500, [1, 2, 3, [4, 5, 6]]]\n",
      "[33, 47, 52, 54, 59, 61, 63, 77, [1, 2, 3, [4, 5, 6]], 500, [1, 2, 3, [4, 5, 6], 888], 500]\n",
      "[33, 47, 52, 54, 59, 61, 63, 77, [1, 2, 3, [4, 5, 6]], 500, [1, 2, 3, [4, 5, 6], 888], -1]\n"
     ]
    }
   ],
   "source": [
    "from random import random\n",
    "def random_max(max: int):\n",
    "    return int(random() * float(max))\n",
    "\n",
    "for i in range(10):\n",
    "    numeros.append(random_max(100))\n",
    "\n",
    "\n",
    "lista_1.append([1,2,3,[4,5,6]])\n",
    "print(lista_1)\n",
    "\n",
    "lista_3 = lista_1.copy()\n",
    "lista_1[-1].append(888)\n",
    "lista_1.append(500)\n",
    "lista_3.append(-1)\n",
    "print(lista_1)\n",
    "print(lista_3)"
   ]
  },
  {
   "cell_type": "code",
   "execution_count": 46,
   "metadata": {},
   "outputs": [
    {
     "name": "stdout",
     "output_type": "stream",
     "text": [
      "deep copy\n",
      "[1, 2, 3, [4, 5, 6, 'teste']]\n",
      "None\n",
      "[1, 2, 3, [4, 5, 6]]\n"
     ]
    }
   ],
   "source": [
    "from copy import deepcopy as cp\n",
    "\n",
    "def deepcopy(parametro):\n",
    "    print('deep copy')\n",
    "\n",
    "lista0 = [4,5,6]\n",
    "lista1 = [1,2,3,lista0]\n",
    "lista2 = deepcopy(lista1) # sobreescrevemos o deep copy\n",
    "lista3 = cp(lista1) # utilizamos o deep copy com alias 'cp'\n",
    "\n",
    "lista0.append('teste')\n",
    "print(lista1)\n",
    "print(lista2)\n",
    "print(lista3)\n",
    "# Imprime\n",
    "# [1, 2, 3, [4, 5, 6, 'teste']]\n",
    "# [1, 2, 3, [4, 5, 6, 'teste']]"
   ]
  },
  {
   "cell_type": "code",
   "execution_count": 48,
   "metadata": {},
   "outputs": [
    {
     "name": "stdout",
     "output_type": "stream",
     "text": [
      "<class 'tuple'>\n",
      "('framboesa', 'ameixa', 'limão')\n"
     ]
    }
   ],
   "source": [
    "# Tuplas\n",
    "\n",
    "frutas = 'framboesa', 'ameixa'\n",
    "frutas_2 = ('framboesa', 'ameixa', 'limão',)\n",
    "print(type(frutas))\n",
    "print(frutas_2)"
   ]
  },
  {
   "cell_type": "code",
   "execution_count": 54,
   "metadata": {},
   "outputs": [
    {
     "name": "stdout",
     "output_type": "stream",
     "text": [
      "('abc', 1, [])\n",
      "('abc', 1, [1])\n"
     ]
    },
    {
     "ename": "TypeError",
     "evalue": "'tuple' object does not support item assignment",
     "output_type": "error",
     "traceback": [
      "\u001b[1;31m---------------------------------------------------------------------------\u001b[0m",
      "\u001b[1;31mTypeError\u001b[0m                                 Traceback (most recent call last)",
      "Cell \u001b[1;32mIn [54], line 5\u001b[0m\n\u001b[0;32m      3\u001b[0m tupla[\u001b[39m2\u001b[39m]\u001b[39m.\u001b[39mappend(\u001b[39m1\u001b[39m)\n\u001b[0;32m      4\u001b[0m \u001b[39mprint\u001b[39m(tupla)\n\u001b[1;32m----> 5\u001b[0m tupla[\u001b[39m0\u001b[39;49m] \u001b[39m=\u001b[39m \u001b[39m'\u001b[39m\u001b[39mdef\u001b[39m\u001b[39m'\u001b[39m\n",
      "\u001b[1;31mTypeError\u001b[0m: 'tuple' object does not support item assignment"
     ]
    }
   ],
   "source": [
    "tupla = ('abc', 1, [])\n",
    "print(tupla)\n",
    "tupla[2].append(1)\n",
    "print(tupla)\n",
    "# tupla[0] = 'def'"
   ]
  },
  {
   "cell_type": "code",
   "execution_count": 51,
   "metadata": {},
   "outputs": [
    {
     "name": "stdout",
     "output_type": "stream",
     "text": [
      "<class 'tuple'>\n",
      "<class 'tuple'>\n",
      "<class 'tuple'>\n",
      "1\n"
     ]
    }
   ],
   "source": [
    "tupla = ()\n",
    "tupla_2 = tuple()\n",
    "tupla_3 = 1,\n",
    "\n",
    "print(type(tupla))\n",
    "print(type(tupla_2))\n",
    "print(type(tupla_3))\n",
    "print(len(tupla_3))"
   ]
  },
  {
   "cell_type": "code",
   "execution_count": 65,
   "metadata": {},
   "outputs": [
    {
     "name": "stdout",
     "output_type": "stream",
     "text": [
      "('s', 'a', [1, 2, 3])\n",
      "2160193851264\n",
      "2160193851264\n",
      "2160193303104\n",
      "2160193851264\n",
      "[3, 3, 3]\n",
      "('s', 'a', [1, 2, 3])\n"
     ]
    },
    {
     "ename": "NameError",
     "evalue": "name 'tupla' is not defined",
     "output_type": "error",
     "traceback": [
      "\u001b[1;31m---------------------------------------------------------------------------\u001b[0m",
      "\u001b[1;31mNameError\u001b[0m                                 Traceback (most recent call last)",
      "Cell \u001b[1;32mIn [65], line 15\u001b[0m\n\u001b[0;32m     13\u001b[0m \u001b[39mdel\u001b[39;00m tupla\n\u001b[0;32m     14\u001b[0m \u001b[39m# del tupla[0]\u001b[39;00m\n\u001b[1;32m---> 15\u001b[0m \u001b[39mprint\u001b[39m(tupla)\n",
      "\u001b[1;31mNameError\u001b[0m: name 'tupla' is not defined"
     ]
    }
   ],
   "source": [
    "lista = [1,2,3]\n",
    "tupla = ('s','a',lista)\n",
    "\n",
    "print(tupla)\n",
    "print(id(lista))\n",
    "print(id(tupla[2]))\n",
    "lista = [3,3,3]\n",
    "print(id(lista))\n",
    "print(id(tupla[2]))\n",
    "print(lista)\n",
    "print(tupla)\n",
    "\n",
    "del tupla\n",
    "# del tupla[0]\n",
    "print(tupla)\n"
   ]
  },
  {
   "cell_type": "code",
   "execution_count": 71,
   "metadata": {},
   "outputs": [
    {
     "name": "stdout",
     "output_type": "stream",
     "text": [
      "('NaN', 'NaN', 'NaN', 'NaN')\n",
      "('Batman', '!')\n",
      "('NaN', 'NaN', 'NaN', 'NaN', 'NaN', 'NaN', 'NaN', 'NaN', 'NaN', 'NaN', 'NaN', 'NaN', 'NaN', 'NaN', 'NaN', 'NaN', 'Batman', '!')\n",
      "True\n",
      "True\n",
      "False\n",
      "<class 'tuple'>\n"
     ]
    }
   ],
   "source": [
    "t1 = ('NaN', 'NaN')\n",
    "\n",
    "t2 = t1 * 2\n",
    "print(t2)\n",
    "\n",
    "t3 = ('Batman',) + ('!',)\n",
    "print(t3)\n",
    "\n",
    "t4 = t1 * 8  + t3\n",
    "print(t4)\n",
    "\n",
    "print('Batman' in t4)\n",
    "print('Batman' not in t2)\n",
    "print('Batman' in t2)\n",
    "\n",
    "print(type(t3))"
   ]
  },
  {
   "cell_type": "code",
   "execution_count": 83,
   "metadata": {},
   "outputs": [
    {
     "name": "stdout",
     "output_type": "stream",
     "text": [
      "('Batman', '!', '...', '...', '...', '...', '...', '...', '...', '...')\n",
      "<class 'tuple'>\n",
      "<class 'list'>\n",
      "<class 'tuple'>\n",
      "('Batman', '!', '...', '...', '...', '...', '...', '...', '...', '...', 'Batman', '!', '...', '...', '...', '...', '...', '...', '...', '...')\n",
      "('gol', 'jetta', 'amarok')\n",
      "\n",
      "gol\n",
      "polo\n",
      "jetta\n",
      "golf\n",
      "amarok\n"
     ]
    },
    {
     "ename": "TypeError",
     "evalue": "'tuple' object doesn't support item deletion",
     "output_type": "error",
     "traceback": [
      "\u001b[1;31m---------------------------------------------------------------------------\u001b[0m",
      "\u001b[1;31mTypeError\u001b[0m                                 Traceback (most recent call last)",
      "Cell \u001b[1;32mIn [83], line 23\u001b[0m\n\u001b[0;32m     20\u001b[0m     \u001b[39mprint\u001b[39m(carro)\n\u001b[0;32m     22\u001b[0m \u001b[39m# carros[1] = 'asa'\u001b[39;00m\n\u001b[1;32m---> 23\u001b[0m \u001b[39mdel\u001b[39;00m carros[\u001b[39m1\u001b[39m]\n",
      "\u001b[1;31mTypeError\u001b[0m: 'tuple' object doesn't support item deletion"
     ]
    }
   ],
   "source": [
    "t3 = ('Batman',) + ('!',) + ('...',) * 8\n",
    "print(t3)\n",
    "\n",
    "print(type(t3))\n",
    "tupla_como_lista = list(t3)\n",
    "print(type(tupla_como_lista))\n",
    "lista_como_tupla = tuple(tupla_como_lista)\n",
    "print(type(lista_como_tupla))\n",
    "\n",
    "teste = t3 + tuple(tupla_como_lista)\n",
    "print(teste)\n",
    "# print(t3[0:2])\n",
    "# print(t3[])\n",
    "\n",
    "carros = ('gol', 'polo', 'jetta', 'golf', 'amarok',)\n",
    "print(carros[0::2])\n",
    "\n",
    "print()\n",
    "for carro in carros:\n",
    "    print(carro)\n",
    "\n",
    "carros[1] = 'asa'\n",
    "del carros[1]\n",
    "\n"
   ]
  },
  {
   "cell_type": "code",
   "execution_count": 85,
   "metadata": {},
   "outputs": [
    {
     "name": "stdout",
     "output_type": "stream",
     "text": [
      "gol\n",
      "polo\n",
      "jetta\n",
      "373.15\n",
      "212.0\n"
     ]
    }
   ],
   "source": [
    "# tuple unpacking\n",
    "\n",
    "primeiro, segundo, terceiro = ('gol', 'polo', 'jetta')\n",
    "print(primeiro)\n",
    "print(segundo)\n",
    "print(terceiro)\n",
    "\n",
    "def converte_temperaturas(celsius: float):\n",
    "    kelvin = celsius + 273.15\n",
    "    fahrenheit = (celsius * 9/5) + 32\n",
    "    return True, kelvin, fahrenheit\n",
    "\n",
    "\n",
    "teve_sucesso, kelvin, fahrenheit = converte_temperaturas(100)\n",
    "print(kelvin)\n",
    "print(fahrenheit)"
   ]
  },
  {
   "cell_type": "code",
   "execution_count": 89,
   "metadata": {},
   "outputs": [
    {
     "name": "stdout",
     "output_type": "stream",
     "text": [
      "gol\n",
      "['polo', 'jetta', 'amarok']\n",
      "['gol', 'polo', 'jetta']\n",
      "amarok\n",
      "gol\n",
      "['polo', 'jetta']\n",
      "amarok\n"
     ]
    }
   ],
   "source": [
    "primeiro, *resto = ('gol', 'polo', 'jetta', 'amarok')\n",
    "print(primeiro)\n",
    "print(resto)\n",
    "\n",
    "*resto, ultimo = ('gol', 'polo', 'jetta', 'amarok')\n",
    "print(resto)\n",
    "print(ultimo)\n",
    "\n",
    "primeiro, *resto, ultimo = ('gol', 'polo', 'jetta', 'amarok')\n",
    "print(primeiro)\n",
    "print(resto)\n",
    "print(ultimo)"
   ]
  },
  {
   "cell_type": "code",
   "execution_count": 92,
   "metadata": {},
   "outputs": [
    {
     "name": "stdout",
     "output_type": "stream",
     "text": [
      "5\n",
      "40\n",
      "40\n",
      "5\n"
     ]
    }
   ],
   "source": [
    "variavel_a, variavel_b = 5, 40\n",
    "print(variavel_a)\n",
    "print(variavel_b)\n",
    "\n",
    "variavel_a, variavel_b = variavel_b, variavel_a\n",
    "print(variavel_a)\n",
    "print(variavel_b)\n",
    "\n",
    "# inverter valores em outras linguagens (C#, java, por exemplo)\n",
    "qualquer = variavel_a\n",
    "variavel_a = variavel_b\n",
    "variavel_b = qualquer\n",
    "\n"
   ]
  },
  {
   "cell_type": "code",
   "execution_count": 99,
   "metadata": {},
   "outputs": [
    {
     "name": "stdout",
     "output_type": "stream",
     "text": [
      "posicao: 0, valor: gol\n",
      "posicao: 1, valor: polo\n",
      "posicao: 2, valor: jetta\n",
      "posicao: 3, valor: amarok\n",
      "\n",
      "posicao: 5, valor: gol\n",
      "posicao: 6, valor: polo\n",
      "posicao: 7, valor: jetta\n",
      "posicao: 8, valor: amarok\n",
      "\n",
      "posicao: 0, valor: gol\n",
      "posicao: 1, valor: polo\n",
      "posicao: 2, valor: jetta\n",
      "posicao: 3, valor: amarok\n",
      "\n",
      "posicao: 0, valor: u\n",
      "posicao: 1, valor: m\n",
      "posicao: 2, valor: a\n",
      "posicao: 3, valor:  \n",
      "posicao: 4, valor: s\n",
      "posicao: 5, valor: t\n",
      "posicao: 6, valor: r\n",
      "posicao: 7, valor: i\n",
      "posicao: 8, valor: n\n",
      "posicao: 9, valor: g\n",
      "\n"
     ]
    },
    {
     "ename": "TypeError",
     "evalue": "'int' object is not iterable",
     "output_type": "error",
     "traceback": [
      "\u001b[1;31m---------------------------------------------------------------------------\u001b[0m",
      "\u001b[1;31mTypeError\u001b[0m                                 Traceback (most recent call last)",
      "Cell \u001b[1;32mIn [99], line 19\u001b[0m\n\u001b[0;32m     16\u001b[0m     \u001b[39mprint\u001b[39m(\u001b[39mf\u001b[39m\u001b[39m'\u001b[39m\u001b[39mposicao: \u001b[39m\u001b[39m{\u001b[39;00mindex\u001b[39m}\u001b[39;00m\u001b[39m, valor: \u001b[39m\u001b[39m{\u001b[39;00mvalor\u001b[39m}\u001b[39;00m\u001b[39m'\u001b[39m)\n\u001b[0;32m     18\u001b[0m \u001b[39mprint\u001b[39m()\n\u001b[1;32m---> 19\u001b[0m \u001b[39mfor\u001b[39;00m index, valor \u001b[39min\u001b[39;00m \u001b[39menumerate\u001b[39;49m(\u001b[39m10\u001b[39;49m):\n\u001b[0;32m     20\u001b[0m     \u001b[39mprint\u001b[39m(\u001b[39mf\u001b[39m\u001b[39m'\u001b[39m\u001b[39mposicao: \u001b[39m\u001b[39m{\u001b[39;00mindex\u001b[39m}\u001b[39;00m\u001b[39m, valor: \u001b[39m\u001b[39m{\u001b[39;00mvalor\u001b[39m}\u001b[39;00m\u001b[39m'\u001b[39m)\n",
      "\u001b[1;31mTypeError\u001b[0m: 'int' object is not iterable"
     ]
    }
   ],
   "source": [
    "tupla = ('gol', 'polo', 'jetta', 'amarok')\n",
    "\n",
    "for i in range(len(tupla)):\n",
    "    print(f'posicao: {i}, valor: {tupla[i]}')\n",
    "\n",
    "print()\n",
    "for index, valor in enumerate(tupla, start=5):\n",
    "    print(f'posicao: {index}, valor: {valor}')\n",
    "\n",
    "print()\n",
    "for index, valor in enumerate(tupla):\n",
    "    print(f'posicao: {index}, valor: {valor}')\n",
    "\n",
    "print()\n",
    "for index, valor in enumerate('uma string'):\n",
    "    print(f'posicao: {index}, valor: {valor}')\n",
    "\n",
    "print()\n",
    "for index, valor in enumerate(10):\n",
    "    print(f'posicao: {index}, valor: {valor}')"
   ]
  },
  {
   "cell_type": "code",
   "execution_count": 107,
   "metadata": {},
   "outputs": [
    {
     "name": "stdout",
     "output_type": "stream",
     "text": [
      "igual\n",
      "esperado[idx]: crip_a, real: crip_b\n",
      "esperado[idx]: crip_b, real: crip_c\n",
      "esperado[idx]: crip_c, real: crip_a\n",
      "0 diferente\n",
      "1 diferente\n"
     ]
    },
    {
     "ename": "IndexError",
     "evalue": "list index out of range",
     "output_type": "error",
     "traceback": [
      "\u001b[1;31m---------------------------------------------------------------------------\u001b[0m",
      "\u001b[1;31mIndexError\u001b[0m                                Traceback (most recent call last)",
      "Cell \u001b[1;32mIn [107], line 23\u001b[0m\n\u001b[0;32m     21\u001b[0m \u001b[39m# Solução III\u001b[39;00m\n\u001b[0;32m     22\u001b[0m \u001b[39mfor\u001b[39;00m i \u001b[39min\u001b[39;00m \u001b[39mrange\u001b[39m(\u001b[39mlen\u001b[39m(esperado)):\n\u001b[1;32m---> 23\u001b[0m     \u001b[39mif\u001b[39;00m esperado[i] \u001b[39m==\u001b[39m real[i]:\n\u001b[0;32m     24\u001b[0m         \u001b[39mprint\u001b[39m(i, \u001b[39m\"\u001b[39m\u001b[39migual\u001b[39m\u001b[39m\"\u001b[39m)\n\u001b[0;32m     25\u001b[0m     \u001b[39melse\u001b[39;00m:\n",
      "\u001b[1;31mIndexError\u001b[0m: list index out of range"
     ]
    }
   ],
   "source": [
    "esperado = ['crip_a','crip_b','crip_c']\n",
    "real = ['crip_a','crip_b','crip_c']\n",
    "\n",
    "# Como comparar que os valores obtidos no 'real' são iguais ao 'esperado'?\n",
    "\n",
    "# Solução I\n",
    "if esperado == real:\n",
    "    print('igual')\n",
    "else:\n",
    "    print('diferente')\n",
    "\n",
    "esperado = ['crip_a','crip_b','crip_c']\n",
    "real = ['crip_b','crip_c','crip_a']\n",
    "\n",
    "# Solução II\n",
    "for idx, valor in enumerate(real):\n",
    "    print(f'esperado[idx]: {esperado[idx]}, real: {valor}')\n",
    "\n",
    "# Solução III\n",
    "for i in range(len(esperado)):\n",
    "    if esperado[i] == real[i]:\n",
    "        print(i, \"igual\")\n",
    "    else:\n",
    "        print(i, \"diferente\")\n",
    "\n",
    "esperado = ['crip_a','crip_b','crip_c']\n",
    "real = ['crip_a','crip_b','crip_c']\n",
    "# Solução com Zip\n",
    "for item in zip(esperado, real):\n",
    "    print(item)\n",
    "\n"
   ]
  },
  {
   "cell_type": "code",
   "execution_count": 112,
   "metadata": {},
   "outputs": [
    {
     "name": "stdout",
     "output_type": "stream",
     "text": [
      "('crip_a', 'crip_a')\n",
      "('crip_b', 'crip_b')\n",
      "('crip_a', 'crip_a')\n",
      "('crip_b', 'crip_b')\n",
      "('&', 'crip_c')\n",
      "('crip_a', 'crip_a')\n",
      "('crip_b', 'crip_b')\n"
     ]
    }
   ],
   "source": [
    "esperado = ['crip_a','crip_b']\n",
    "real = ['crip_a','crip_b','crip_c']\n",
    "# Solução com Zip, comportamento default para na menor lista\n",
    "for item in zip(esperado, real):\n",
    "    print(item)\n",
    "\n",
    "from itertools import zip_longest\n",
    "# Solução com Zip, comportamento itertools.zip_longest completa a menor lista\n",
    "for item in zip_longest(esperado, real, fillvalue='&'):\n",
    "    print(item)\n",
    "\n",
    "# Solução com Zip no python >= 3.10, parâmetro strict\n",
    "for item in zip(esperado, real, strict=False):\n",
    "    print(item)"
   ]
  },
  {
   "cell_type": "code",
   "execution_count": 118,
   "metadata": {},
   "outputs": [
    {
     "name": "stdout",
     "output_type": "stream",
     "text": [
      "('crip_a', 'crip_a', 1, 'primeiro', 0)\n",
      "[(1, 'primeiro'), (2, 'segundo'), (3, 'terceiro')]\n",
      "<zip object at 0x000001F6F59C02C0>\n"
     ]
    }
   ],
   "source": [
    "esperado = ['crip_a','crip_b', 'crip_c']\n",
    "real = ['crip_a','crip_b','crip_c']\n",
    "tres = [1,2,3]\n",
    "quatro = ['primeiro','segundo','terceiro']\n",
    "# Lazy zip\n",
    "for item in zip(esperado, real, tres, quatro, range(5)):\n",
    "    print(item)\n",
    "\n",
    "# Lazy\n",
    "print(list(zip([1,2,3],['primeiro','segundo','terceiro'])))\n",
    "\n",
    "# somente aponta que criou um zip, mas não itera ou produz conteúdo sobre ele\n",
    "print(zip([1,2,3],['primeiro','segundo','terceiro']))\n",
    "\n"
   ]
  },
  {
   "cell_type": "code",
   "execution_count": null,
   "metadata": {},
   "outputs": [],
   "source": [
    "## Named Tuple"
   ]
  }
 ],
 "metadata": {
  "kernelspec": {
   "display_name": "Python 3.10.5 64-bit",
   "language": "python",
   "name": "python3"
  },
  "language_info": {
   "codemirror_mode": {
    "name": "ipython",
    "version": 3
   },
   "file_extension": ".py",
   "mimetype": "text/x-python",
   "name": "python",
   "nbconvert_exporter": "python",
   "pygments_lexer": "ipython3",
   "version": "3.10.5"
  },
  "orig_nbformat": 4,
  "vscode": {
   "interpreter": {
    "hash": "42478136ef40f8edd3f4cf991c33cffcfc620a666d0dc328e82cc0ef4d7b2c04"
   }
  }
 },
 "nbformat": 4,
 "nbformat_minor": 2
}
